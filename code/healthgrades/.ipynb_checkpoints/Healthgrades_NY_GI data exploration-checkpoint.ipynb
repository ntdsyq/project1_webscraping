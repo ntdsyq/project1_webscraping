{
 "cells": [
  {
   "cell_type": "code",
   "execution_count": 580,
   "metadata": {},
   "outputs": [],
   "source": [
    "%matplotlib inline\n",
    "import pandas as pd\n",
    "import numpy as np\n",
    "from matplotlib import pyplot as plt\n",
    "import seaborn as sns\n",
    "plt.style.use('ggplot')\n",
    "\n",
    "SMALL_SIZE = 10\n",
    "MEDIUM_SIZE = 12\n",
    "BIGGER_SIZE = 14\n",
    "LARGE_SIZE = 16\n",
    "\n",
    "plt.rc('font', size=SMALL_SIZE)          # controls default text sizes\n",
    "plt.rc('axes', titlesize=BIGGER_SIZE)     # fontsize of the axes title\n",
    "plt.rc('axes', labelsize=BIGGER_SIZE)    # fontsize of the x and y labels\n",
    "plt.rc('xtick', labelsize=MEDIUM_SIZE)    # fontsize of the tick labels\n",
    "plt.rc('ytick', labelsize=MEDIUM_SIZE)    # fontsize of the tick labels\n",
    "plt.rc('legend', fontsize=SMALL_SIZE)    # legend fontsize\n",
    "plt.rc('figure', titlesize=LARGE_SIZE)  # fontsize of the figure title"
   ]
  },
  {
   "cell_type": "code",
   "execution_count": 558,
   "metadata": {},
   "outputs": [
    {
     "name": "stdout",
     "output_type": "stream",
     "text": [
      "(947, 20)\n",
      "Index(['addr_street', 'age', 'city', 'detailed_url', 'doc_rating', 'featured',\n",
      "       'gender', 'hcp_id', 'hosp_fellow', 'hosp_md', 'hosp_res', 'name',\n",
      "       'num_ins', 'num_reviews', 'practice_addr', 'practice_name', 'rating',\n",
      "       'staff_rating', 'state', 'zipcode'],\n",
      "      dtype='object')\n"
     ]
    }
   ],
   "source": [
    "r_fname = 'healthgrades_physicians_GI_NY_full_raw.csv'\n",
    "fname = 'healthgrades_physicians_GI_NY_full.csv'\n",
    "# Remove blank lines in raw csv file (scrapy bug for windows)\n",
    "raw_data = pd.read_csv(r_fname)\n",
    "\n",
    "# do not write index column\n",
    "raw_data.to_csv(fname, index = False)  \n",
    "\n",
    "# read in fixed csv file\n",
    "data = pd.read_csv(fname) \n",
    "print(data.shape)\n",
    "print(data.columns)"
   ]
  },
  {
   "cell_type": "code",
   "execution_count": 559,
   "metadata": {},
   "outputs": [
    {
     "name": "stdout",
     "output_type": "stream",
     "text": [
      "addr_street <class 'str'>\n",
      "age <class 'numpy.float64'>\n",
      "city <class 'str'>\n",
      "detailed_url <class 'str'>\n",
      "doc_rating <class 'str'>\n",
      "featured <class 'numpy.int64'>\n",
      "gender <class 'str'>\n",
      "hcp_id <class 'str'>\n",
      "hosp_fellow <class 'str'>\n",
      "hosp_md <class 'str'>\n",
      "hosp_res <class 'str'>\n",
      "name <class 'str'>\n",
      "num_ins <class 'numpy.float64'>\n",
      "num_reviews <class 'numpy.int64'>\n",
      "practice_addr <class 'str'>\n",
      "practice_name <class 'str'>\n",
      "rating <class 'numpy.float64'>\n",
      "staff_rating <class 'str'>\n",
      "state <class 'str'>\n",
      "zipcode <class 'numpy.int64'>\n"
     ]
    }
   ],
   "source": [
    "for field in data.columns:\n",
    "    print(field, type(data.loc[0,field]))"
   ]
  },
  {
   "cell_type": "code",
   "execution_count": 560,
   "metadata": {},
   "outputs": [
    {
     "data": {
      "text/plain": [
       "0"
      ]
     },
     "execution_count": 560,
     "metadata": {},
     "output_type": "execute_result"
    }
   ],
   "source": [
    "# check for duplicates based on hcp_id, there shouldn't be any\n",
    "np.sum(data.duplicated(subset = ['hcp_id']))"
   ]
  },
  {
   "cell_type": "code",
   "execution_count": 561,
   "metadata": {},
   "outputs": [],
   "source": [
    "# change zipcode to 5 digit string    \n",
    "if data['zipcode'].dtype == 'int64':\n",
    "    data['zipcode'] = data['zipcode'].apply(lambda x: '{0:05d}'.format(x))\n",
    "\n",
    "# fix some empty values in gender\n",
    "data.loc[ data['gender'].isin(['Male','Female']) == False, ['gender'] ] = np.nan"
   ]
  },
  {
   "cell_type": "code",
   "execution_count": 562,
   "metadata": {},
   "outputs": [
    {
     "data": {
      "text/html": [
       "<div>\n",
       "<style scoped>\n",
       "    .dataframe tbody tr th:only-of-type {\n",
       "        vertical-align: middle;\n",
       "    }\n",
       "\n",
       "    .dataframe tbody tr th {\n",
       "        vertical-align: top;\n",
       "    }\n",
       "\n",
       "    .dataframe thead th {\n",
       "        text-align: right;\n",
       "    }\n",
       "</style>\n",
       "<table border=\"1\" class=\"dataframe\">\n",
       "  <thead>\n",
       "    <tr style=\"text-align: right;\">\n",
       "      <th></th>\n",
       "      <th>addr_street</th>\n",
       "      <th>age</th>\n",
       "      <th>city</th>\n",
       "      <th>detailed_url</th>\n",
       "      <th>doc_rating</th>\n",
       "      <th>featured</th>\n",
       "      <th>gender</th>\n",
       "      <th>hcp_id</th>\n",
       "      <th>hosp_fellow</th>\n",
       "      <th>hosp_md</th>\n",
       "      <th>hosp_res</th>\n",
       "      <th>name</th>\n",
       "      <th>num_ins</th>\n",
       "      <th>num_reviews</th>\n",
       "      <th>practice_addr</th>\n",
       "      <th>practice_name</th>\n",
       "      <th>rating</th>\n",
       "      <th>staff_rating</th>\n",
       "      <th>state</th>\n",
       "      <th>zipcode</th>\n",
       "    </tr>\n",
       "  </thead>\n",
       "  <tbody>\n",
       "    <tr>\n",
       "      <th>206</th>\n",
       "      <td>853 Tiffany St</td>\n",
       "      <td>48.0</td>\n",
       "      <td>Bronx</td>\n",
       "      <td>/physician/dr-bhavna-balar-yw4vw</td>\n",
       "      <td>NaN</td>\n",
       "      <td>0</td>\n",
       "      <td>Female</td>\n",
       "      <td>dr-bhavna-balar-yw4vw</td>\n",
       "      <td>NaN</td>\n",
       "      <td>M P Shah Medical College, Saurashtra University</td>\n",
       "      <td>NaN</td>\n",
       "      <td>Dr. Bhavna Balar, MD</td>\n",
       "      <td>NaN</td>\n",
       "      <td>0</td>\n",
       "      <td>853 Tiffany St, Bronx, NY, 10459</td>\n",
       "      <td>Bronxcare</td>\n",
       "      <td>NaN</td>\n",
       "      <td>NaN</td>\n",
       "      <td>NY</td>\n",
       "      <td>10459</td>\n",
       "    </tr>\n",
       "    <tr>\n",
       "      <th>427</th>\n",
       "      <td>423 E 23rd St</td>\n",
       "      <td>84.0</td>\n",
       "      <td>New York</td>\n",
       "      <td>/physician/dr-morton-bender-gh5b8</td>\n",
       "      <td>NaN</td>\n",
       "      <td>0</td>\n",
       "      <td>Male</td>\n",
       "      <td>dr-morton-bender-gh5b8</td>\n",
       "      <td>NaN</td>\n",
       "      <td>NaN</td>\n",
       "      <td>NaN</td>\n",
       "      <td>Dr. Morton Bender, MD</td>\n",
       "      <td>NaN</td>\n",
       "      <td>0</td>\n",
       "      <td>423 E 23rd St, New York, NY, 10010</td>\n",
       "      <td>VETERANS AFFAIRS MEDICAL CENTER</td>\n",
       "      <td>NaN</td>\n",
       "      <td>NaN</td>\n",
       "      <td>NY</td>\n",
       "      <td>10010</td>\n",
       "    </tr>\n",
       "    <tr>\n",
       "      <th>640</th>\n",
       "      <td>2211 Emmons Ave</td>\n",
       "      <td>NaN</td>\n",
       "      <td>Brooklyn</td>\n",
       "      <td>/physician/dr-jack-braha-y8k78</td>\n",
       "      <td>5.0|5.0|5.0|5.0</td>\n",
       "      <td>0</td>\n",
       "      <td>Male</td>\n",
       "      <td>dr-jack-braha-y8k78</td>\n",
       "      <td>NaN</td>\n",
       "      <td>New York College Of Osteopathic Medicine, New ...</td>\n",
       "      <td>NaN</td>\n",
       "      <td>Dr. Jack Braha, DO</td>\n",
       "      <td>NaN</td>\n",
       "      <td>6</td>\n",
       "      <td>2211 Emmons Ave, Brooklyn, NY, 11235</td>\n",
       "      <td>Brooklyn Gastro/Endoscpy PLLC</td>\n",
       "      <td>5.0</td>\n",
       "      <td>4.5|5.0|4.5</td>\n",
       "      <td>NY</td>\n",
       "      <td>11235</td>\n",
       "    </tr>\n",
       "    <tr>\n",
       "      <th>604</th>\n",
       "      <td>1305 York Ave</td>\n",
       "      <td>49.0</td>\n",
       "      <td>New York</td>\n",
       "      <td>/physician/dr-christine-frissora-rodeo-yhls2</td>\n",
       "      <td>3.5|4.0|4.0|4.0</td>\n",
       "      <td>0</td>\n",
       "      <td>Female</td>\n",
       "      <td>dr-christine-frissora-rodeo-yhls2</td>\n",
       "      <td>Colum-St Lukes RHC</td>\n",
       "      <td>Weill Cornell Medical College</td>\n",
       "      <td>Mount Sinai Medical Center</td>\n",
       "      <td>Dr. Christine Frissora-Rodeo, MD</td>\n",
       "      <td>NaN</td>\n",
       "      <td>52</td>\n",
       "      <td>1305 York Ave, New York, NY, 10021</td>\n",
       "      <td>Ira M Jacobson MD</td>\n",
       "      <td>4.0</td>\n",
       "      <td>4.0|4.5|4.0</td>\n",
       "      <td>NY</td>\n",
       "      <td>10021</td>\n",
       "    </tr>\n",
       "    <tr>\n",
       "      <th>780</th>\n",
       "      <td>17 E 102nd St Fl 5</td>\n",
       "      <td>65.0</td>\n",
       "      <td>New York</td>\n",
       "      <td>/physician/dr-steven-itzkowitz-2r7gh</td>\n",
       "      <td>5.0|5.0|5.0|5.0</td>\n",
       "      <td>0</td>\n",
       "      <td>Male</td>\n",
       "      <td>dr-steven-itzkowitz-2r7gh</td>\n",
       "      <td>Ucsf Hosps</td>\n",
       "      <td>Mount Sinai School Of Medicine Of New York Uni...</td>\n",
       "      <td>Bellevue Hospital Center</td>\n",
       "      <td>Dr. Steven Itzkowitz, MD</td>\n",
       "      <td>NaN</td>\n",
       "      <td>6</td>\n",
       "      <td>17 E 102nd St Fl 5, New York, NY, 10029</td>\n",
       "      <td>Mount Sinai Gastroenterology</td>\n",
       "      <td>5.0</td>\n",
       "      <td>5.0|5.0|5.0</td>\n",
       "      <td>NY</td>\n",
       "      <td>10029</td>\n",
       "    </tr>\n",
       "  </tbody>\n",
       "</table>\n",
       "</div>"
      ],
      "text/plain": [
       "            addr_street   age      city  \\\n",
       "206      853 Tiffany St  48.0     Bronx   \n",
       "427       423 E 23rd St  84.0  New York   \n",
       "640     2211 Emmons Ave   NaN  Brooklyn   \n",
       "604       1305 York Ave  49.0  New York   \n",
       "780  17 E 102nd St Fl 5  65.0  New York   \n",
       "\n",
       "                                     detailed_url       doc_rating  featured  \\\n",
       "206              /physician/dr-bhavna-balar-yw4vw              NaN         0   \n",
       "427             /physician/dr-morton-bender-gh5b8              NaN         0   \n",
       "640                /physician/dr-jack-braha-y8k78  5.0|5.0|5.0|5.0         0   \n",
       "604  /physician/dr-christine-frissora-rodeo-yhls2  3.5|4.0|4.0|4.0         0   \n",
       "780          /physician/dr-steven-itzkowitz-2r7gh  5.0|5.0|5.0|5.0         0   \n",
       "\n",
       "     gender                             hcp_id         hosp_fellow  \\\n",
       "206  Female              dr-bhavna-balar-yw4vw                 NaN   \n",
       "427    Male             dr-morton-bender-gh5b8                 NaN   \n",
       "640    Male                dr-jack-braha-y8k78                 NaN   \n",
       "604  Female  dr-christine-frissora-rodeo-yhls2  Colum-St Lukes RHC   \n",
       "780    Male          dr-steven-itzkowitz-2r7gh          Ucsf Hosps   \n",
       "\n",
       "                                               hosp_md  \\\n",
       "206    M P Shah Medical College, Saurashtra University   \n",
       "427                                                NaN   \n",
       "640  New York College Of Osteopathic Medicine, New ...   \n",
       "604                      Weill Cornell Medical College   \n",
       "780  Mount Sinai School Of Medicine Of New York Uni...   \n",
       "\n",
       "                       hosp_res                              name  num_ins  \\\n",
       "206                         NaN              Dr. Bhavna Balar, MD      NaN   \n",
       "427                         NaN             Dr. Morton Bender, MD      NaN   \n",
       "640                         NaN                Dr. Jack Braha, DO      NaN   \n",
       "604  Mount Sinai Medical Center  Dr. Christine Frissora-Rodeo, MD      NaN   \n",
       "780    Bellevue Hospital Center          Dr. Steven Itzkowitz, MD      NaN   \n",
       "\n",
       "     num_reviews                            practice_addr  \\\n",
       "206            0         853 Tiffany St, Bronx, NY, 10459   \n",
       "427            0       423 E 23rd St, New York, NY, 10010   \n",
       "640            6     2211 Emmons Ave, Brooklyn, NY, 11235   \n",
       "604           52       1305 York Ave, New York, NY, 10021   \n",
       "780            6  17 E 102nd St Fl 5, New York, NY, 10029   \n",
       "\n",
       "                       practice_name  rating staff_rating state zipcode  \n",
       "206                        Bronxcare     NaN          NaN    NY   10459  \n",
       "427  VETERANS AFFAIRS MEDICAL CENTER     NaN          NaN    NY   10010  \n",
       "640    Brooklyn Gastro/Endoscpy PLLC     5.0  4.5|5.0|4.5    NY   11235  \n",
       "604                Ira M Jacobson MD     4.0  4.0|4.5|4.0    NY   10021  \n",
       "780     Mount Sinai Gastroenterology     5.0  5.0|5.0|5.0    NY   10029  "
      ]
     },
     "execution_count": 562,
     "metadata": {},
     "output_type": "execute_result"
    }
   ],
   "source": [
    "pd.set_option('display.max_columns', 50)\n",
    "# data.head(5)\n",
    "data.sample(5)\n",
    "# data.tail(5)"
   ]
  },
  {
   "cell_type": "code",
   "execution_count": 563,
   "metadata": {},
   "outputs": [
    {
     "name": "stdout",
     "output_type": "stream",
     "text": [
      "              pct_mv\n",
      "addr_street       0%\n",
      "age              22%\n",
      "city              0%\n",
      "detailed_url      0%\n",
      "doc_rating       28%\n",
      "featured          0%\n",
      "gender            7%\n",
      "hcp_id            0%\n",
      "hosp_fellow      41%\n",
      "hosp_md          25%\n",
      "hosp_res         33%\n",
      "name              0%\n",
      "num_ins          93%\n",
      "num_reviews       0%\n",
      "practice_addr     0%\n",
      "practice_name    12%\n",
      "rating           28%\n",
      "staff_rating     29%\n",
      "state             0%\n",
      "zipcode           0%\n"
     ]
    }
   ],
   "source": [
    "# count % of missing values by column\n",
    "mv_cols = pd.DataFrame(data = np.sum(data.isnull(), axis = 0) / data.shape[0], columns = ['pct_mv'] )\n",
    "print(mv_cols.to_string(formatters = {'pct_mv': '{:.0%}'.format}))"
   ]
  },
  {
   "cell_type": "code",
   "execution_count": 564,
   "metadata": {
    "scrolled": true
   },
   "outputs": [],
   "source": [
    "# convert detailed doc_rating and staff_rating from string to float\n",
    "def split_score(data_series):\n",
    "    y = []\n",
    "    for x in data_series:\n",
    "        if pd.isna(x) == False:\n",
    "            y.append(np.mean([float(xi) for xi in x.split('|')]))\n",
    "        else:\n",
    "            y.append(x)\n",
    "    return y\n",
    "\n",
    "data['doc_score'] = split_score(data['doc_rating'])\n",
    "\n",
    "# print(data['doc_rating'].head(5))\n",
    "# print(data['doc_score'].head(5))\n",
    "\n",
    "# print(data['doc_rating'].tail(5))\n",
    "# print(data['doc_score'].tail(5))\n"
   ]
  },
  {
   "cell_type": "code",
   "execution_count": 565,
   "metadata": {},
   "outputs": [],
   "source": [
    "# convert detailed staff_rating from string to float\n",
    "\n",
    "data['staff_score'] = split_score(data['staff_rating'])\n",
    "\n",
    "# print(data['staff_rating'].head(5))\n",
    "# print(data['staff_score'].head(5))\n",
    "# print(data['staff_rating'].tail(5))\n",
    "# print(data['staff_score'].tail(5))\n",
    "# data.columns\n",
    "# data.head(2)"
   ]
  },
  {
   "cell_type": "code",
   "execution_count": 566,
   "metadata": {},
   "outputs": [
    {
     "data": {
      "text/plain": [
       "Index(['addr_street', 'age', 'city', 'detailed_url', 'featured', 'gender',\n",
       "       'hcp_id', 'hosp_fellow', 'hosp_md', 'hosp_res', 'name', 'num_ins',\n",
       "       'num_reviews', 'practice_addr', 'practice_name', 'rating', 'state',\n",
       "       'zipcode', 'doc_score', 'staff_score'],\n",
       "      dtype='object')"
      ]
     },
     "execution_count": 566,
     "metadata": {},
     "output_type": "execute_result"
    }
   ],
   "source": [
    "# drop the two string columns \n",
    "data = data.drop(columns=['doc_rating', 'staff_rating'])\n",
    "data.columns"
   ]
  },
  {
   "cell_type": "code",
   "execution_count": 567,
   "metadata": {},
   "outputs": [
    {
     "data": {
      "text/html": [
       "<div>\n",
       "<style scoped>\n",
       "    .dataframe tbody tr th:only-of-type {\n",
       "        vertical-align: middle;\n",
       "    }\n",
       "\n",
       "    .dataframe tbody tr th {\n",
       "        vertical-align: top;\n",
       "    }\n",
       "\n",
       "    .dataframe thead th {\n",
       "        text-align: right;\n",
       "    }\n",
       "</style>\n",
       "<table border=\"1\" class=\"dataframe\">\n",
       "  <thead>\n",
       "    <tr style=\"text-align: right;\">\n",
       "      <th></th>\n",
       "      <th>num_reviews</th>\n",
       "      <th>has_review</th>\n",
       "    </tr>\n",
       "  </thead>\n",
       "  <tbody>\n",
       "    <tr>\n",
       "      <th>183</th>\n",
       "      <td>1</td>\n",
       "      <td>1</td>\n",
       "    </tr>\n",
       "    <tr>\n",
       "      <th>805</th>\n",
       "      <td>2</td>\n",
       "      <td>1</td>\n",
       "    </tr>\n",
       "    <tr>\n",
       "      <th>830</th>\n",
       "      <td>12</td>\n",
       "      <td>1</td>\n",
       "    </tr>\n",
       "    <tr>\n",
       "      <th>942</th>\n",
       "      <td>78</td>\n",
       "      <td>1</td>\n",
       "    </tr>\n",
       "    <tr>\n",
       "      <th>616</th>\n",
       "      <td>13</td>\n",
       "      <td>1</td>\n",
       "    </tr>\n",
       "    <tr>\n",
       "      <th>684</th>\n",
       "      <td>1</td>\n",
       "      <td>1</td>\n",
       "    </tr>\n",
       "    <tr>\n",
       "      <th>728</th>\n",
       "      <td>10</td>\n",
       "      <td>1</td>\n",
       "    </tr>\n",
       "    <tr>\n",
       "      <th>566</th>\n",
       "      <td>33</td>\n",
       "      <td>1</td>\n",
       "    </tr>\n",
       "    <tr>\n",
       "      <th>123</th>\n",
       "      <td>4</td>\n",
       "      <td>1</td>\n",
       "    </tr>\n",
       "    <tr>\n",
       "      <th>930</th>\n",
       "      <td>8</td>\n",
       "      <td>1</td>\n",
       "    </tr>\n",
       "  </tbody>\n",
       "</table>\n",
       "</div>"
      ],
      "text/plain": [
       "     num_reviews  has_review\n",
       "183            1           1\n",
       "805            2           1\n",
       "830           12           1\n",
       "942           78           1\n",
       "616           13           1\n",
       "684            1           1\n",
       "728           10           1\n",
       "566           33           1\n",
       "123            4           1\n",
       "930            8           1"
      ]
     },
     "execution_count": 567,
     "metadata": {},
     "output_type": "execute_result"
    }
   ],
   "source": [
    "# create indicator for whether the doctor has been reviewed or not\n",
    "data['has_review'] = 1\n",
    "data.loc[ newdata['num_reviews'] == 0, 'has_review'] = 0\n",
    "data.loc[:,['num_reviews','has_review']].sample(10)"
   ]
  },
  {
   "cell_type": "markdown",
   "metadata": {},
   "source": [
    "Introduction of the dataset\n",
    "Physician universe and demographics\n",
    "- Distribution of age\n",
    "- Create age groups\n",
    "- Number of GI doctors in NY metro = 6% of national\n",
    "- Gender distribution: 22% female vs. 18% national\n",
    "    -- Gender over time (age group)\n",
    "- * Educational history (where they came from)\n",
    "\n",
    "Review analysis\n",
    "Number of reviews: (num_reviews > 0 )\n",
    "- distribution, group into L, M, H\n",
    "- Number of reviews vs. rating\n",
    "- Number of reviews vs. age\n",
    "\n",
    "What drives rating? (num_reviews >= 5)\n",
    "- Rating by age group\n",
    "- Rating vs. doctor score vs. staff score\n",
    "- Rating distribution by top institutions\n",
    "\n",
    "Extreme analysis\n",
    "- Doctors with large number of reviews: gender, age, location, rating\n",
    "- Doctors whose doc_score is very different from staff_score (check comments) \n",
    "\n",
    "Top doctors based on both num of reviews and rating\n",
    "- Top institution from which they were trained? "
   ]
  },
  {
   "cell_type": "markdown",
   "metadata": {},
   "source": [
    "Introduction of the dataset\n",
    "- Acknowledgement of missing data.\n",
    "- Definition of subsets of analysis (eg docs with at least 1 or at least 5 reviews)\n",
    "\n",
    "Physician universe and demographics\n",
    "- Number of GI doctors in NY metro = 6% of national\n",
    "- Overall rating distribution\n",
    "\n",
    "Influence of # of reviews\n",
    "- Overall # of review distribution\n",
    "- Number of reviews vs. rating (highlight top positive/negative)\n",
    "- Doctors with large number of reviews: gender, age, location, rating\n",
    "\n",
    "Influence of age\n",
    "- Distribution of age\n",
    "- Create age groups\n",
    "- Number of reviews vs. age\n",
    "- Rating by age group (are more experienced physicians better rated?)\n",
    "\n",
    "Influence of gender\n",
    "- Gender distribution: 22% female vs. 18% national\n",
    "- # of reviews is skewed by gender...\n",
    "- ...but rating distribution is not\n",
    "\n",
    "Influnece of educational history\n",
    "- * Educational history (where they came from)\n",
    "- Rating distribution by top institutions\n",
    "  (either #1 vs #2 or top few vs everyone else)\n",
    "\n",
    "Influence of staff performance\n",
    "- * Rating vs. doctor score vs. staff score: heatmap\n",
    "- Extreme: Doctors whose doc_score is very different from staff_score (check comments) \n",
    " "
   ]
  },
  {
   "cell_type": "code",
   "execution_count": 568,
   "metadata": {
    "scrolled": true
   },
   "outputs": [
    {
     "data": {
      "text/html": [
       "<div>\n",
       "<style scoped>\n",
       "    .dataframe tbody tr th:only-of-type {\n",
       "        vertical-align: middle;\n",
       "    }\n",
       "\n",
       "    .dataframe tbody tr th {\n",
       "        vertical-align: top;\n",
       "    }\n",
       "\n",
       "    .dataframe thead th {\n",
       "        text-align: right;\n",
       "    }\n",
       "</style>\n",
       "<table border=\"1\" class=\"dataframe\">\n",
       "  <thead>\n",
       "    <tr style=\"text-align: right;\">\n",
       "      <th></th>\n",
       "      <th>age</th>\n",
       "      <th>has_review</th>\n",
       "      <th>num_reviews</th>\n",
       "      <th>rating</th>\n",
       "      <th>doc_score</th>\n",
       "      <th>staff_score</th>\n",
       "    </tr>\n",
       "  </thead>\n",
       "  <tbody>\n",
       "    <tr>\n",
       "      <th>count</th>\n",
       "      <td>737.000000</td>\n",
       "      <td>947.000000</td>\n",
       "      <td>947.000000</td>\n",
       "      <td>681.000000</td>\n",
       "      <td>680.000000</td>\n",
       "      <td>677.000000</td>\n",
       "    </tr>\n",
       "    <tr>\n",
       "      <th>mean</th>\n",
       "      <td>58.701493</td>\n",
       "      <td>0.719113</td>\n",
       "      <td>7.357973</td>\n",
       "      <td>4.070485</td>\n",
       "      <td>4.173897</td>\n",
       "      <td>4.143772</td>\n",
       "    </tr>\n",
       "    <tr>\n",
       "      <th>std</th>\n",
       "      <td>13.457276</td>\n",
       "      <td>0.449670</td>\n",
       "      <td>11.604459</td>\n",
       "      <td>0.932357</td>\n",
       "      <td>0.863816</td>\n",
       "      <td>0.767043</td>\n",
       "    </tr>\n",
       "    <tr>\n",
       "      <th>min</th>\n",
       "      <td>29.000000</td>\n",
       "      <td>0.000000</td>\n",
       "      <td>0.000000</td>\n",
       "      <td>1.000000</td>\n",
       "      <td>1.000000</td>\n",
       "      <td>1.000000</td>\n",
       "    </tr>\n",
       "    <tr>\n",
       "      <th>25%</th>\n",
       "      <td>48.000000</td>\n",
       "      <td>0.000000</td>\n",
       "      <td>0.000000</td>\n",
       "      <td>3.500000</td>\n",
       "      <td>3.625000</td>\n",
       "      <td>3.833333</td>\n",
       "    </tr>\n",
       "    <tr>\n",
       "      <th>50%</th>\n",
       "      <td>59.000000</td>\n",
       "      <td>1.000000</td>\n",
       "      <td>4.000000</td>\n",
       "      <td>4.000000</td>\n",
       "      <td>4.500000</td>\n",
       "      <td>4.333333</td>\n",
       "    </tr>\n",
       "    <tr>\n",
       "      <th>75%</th>\n",
       "      <td>68.000000</td>\n",
       "      <td>1.000000</td>\n",
       "      <td>11.000000</td>\n",
       "      <td>5.000000</td>\n",
       "      <td>5.000000</td>\n",
       "      <td>4.666667</td>\n",
       "    </tr>\n",
       "    <tr>\n",
       "      <th>max</th>\n",
       "      <td>98.000000</td>\n",
       "      <td>1.000000</td>\n",
       "      <td>158.000000</td>\n",
       "      <td>5.000000</td>\n",
       "      <td>5.000000</td>\n",
       "      <td>5.000000</td>\n",
       "    </tr>\n",
       "  </tbody>\n",
       "</table>\n",
       "</div>"
      ],
      "text/plain": [
       "              age  has_review  num_reviews      rating   doc_score  \\\n",
       "count  737.000000  947.000000   947.000000  681.000000  680.000000   \n",
       "mean    58.701493    0.719113     7.357973    4.070485    4.173897   \n",
       "std     13.457276    0.449670    11.604459    0.932357    0.863816   \n",
       "min     29.000000    0.000000     0.000000    1.000000    1.000000   \n",
       "25%     48.000000    0.000000     0.000000    3.500000    3.625000   \n",
       "50%     59.000000    1.000000     4.000000    4.000000    4.500000   \n",
       "75%     68.000000    1.000000    11.000000    5.000000    5.000000   \n",
       "max     98.000000    1.000000   158.000000    5.000000    5.000000   \n",
       "\n",
       "       staff_score  \n",
       "count   677.000000  \n",
       "mean      4.143772  \n",
       "std       0.767043  \n",
       "min       1.000000  \n",
       "25%       3.833333  \n",
       "50%       4.333333  \n",
       "75%       4.666667  \n",
       "max       5.000000  "
      ]
     },
     "execution_count": 568,
     "metadata": {},
     "output_type": "execute_result"
    }
   ],
   "source": [
    "# summary stats of key numeric variables\n",
    "data.loc[:,['age','has_review','num_reviews','rating','doc_score','staff_score']].describe()"
   ]
  },
  {
   "cell_type": "code",
   "execution_count": 569,
   "metadata": {},
   "outputs": [
    {
     "data": {
      "text/html": [
       "<div>\n",
       "<style scoped>\n",
       "    .dataframe tbody tr th:only-of-type {\n",
       "        vertical-align: middle;\n",
       "    }\n",
       "\n",
       "    .dataframe tbody tr th {\n",
       "        vertical-align: top;\n",
       "    }\n",
       "\n",
       "    .dataframe thead th {\n",
       "        text-align: right;\n",
       "    }\n",
       "</style>\n",
       "<table border=\"1\" class=\"dataframe\">\n",
       "  <thead>\n",
       "    <tr style=\"text-align: right;\">\n",
       "      <th></th>\n",
       "      <th>gender</th>\n",
       "      <th>city</th>\n",
       "      <th>zipcode</th>\n",
       "    </tr>\n",
       "  </thead>\n",
       "  <tbody>\n",
       "    <tr>\n",
       "      <th>count</th>\n",
       "      <td>884</td>\n",
       "      <td>947</td>\n",
       "      <td>947</td>\n",
       "    </tr>\n",
       "    <tr>\n",
       "      <th>unique</th>\n",
       "      <td>2</td>\n",
       "      <td>41</td>\n",
       "      <td>118</td>\n",
       "    </tr>\n",
       "    <tr>\n",
       "      <th>top</th>\n",
       "      <td>Male</td>\n",
       "      <td>New York</td>\n",
       "      <td>10016</td>\n",
       "    </tr>\n",
       "    <tr>\n",
       "      <th>freq</th>\n",
       "      <td>688</td>\n",
       "      <td>540</td>\n",
       "      <td>85</td>\n",
       "    </tr>\n",
       "  </tbody>\n",
       "</table>\n",
       "</div>"
      ],
      "text/plain": [
       "       gender      city zipcode\n",
       "count     884       947     947\n",
       "unique      2        41     118\n",
       "top      Male  New York   10016\n",
       "freq      688       540      85"
      ]
     },
     "execution_count": 569,
     "metadata": {},
     "output_type": "execute_result"
    }
   ],
   "source": [
    "# take a look at categorical variables\n",
    "data.loc[:,['gender','city','zipcode']].describe()"
   ]
  },
  {
   "cell_type": "code",
   "execution_count": 570,
   "metadata": {},
   "outputs": [
    {
     "name": "stdout",
     "output_type": "stream",
     "text": [
      "Male      688\n",
      "Female    196\n",
      "Name: gender, dtype: int64\n"
     ]
    },
    {
     "data": {
      "text/html": [
       "<div>\n",
       "<style scoped>\n",
       "    .dataframe tbody tr th:only-of-type {\n",
       "        vertical-align: middle;\n",
       "    }\n",
       "\n",
       "    .dataframe tbody tr th {\n",
       "        vertical-align: top;\n",
       "    }\n",
       "\n",
       "    .dataframe thead th {\n",
       "        text-align: right;\n",
       "    }\n",
       "</style>\n",
       "<table border=\"1\" class=\"dataframe\">\n",
       "  <thead>\n",
       "    <tr style=\"text-align: right;\">\n",
       "      <th></th>\n",
       "      <th>addr_street</th>\n",
       "      <th>age</th>\n",
       "      <th>city</th>\n",
       "      <th>detailed_url</th>\n",
       "      <th>featured</th>\n",
       "      <th>hcp_id</th>\n",
       "      <th>hosp_fellow</th>\n",
       "      <th>hosp_md</th>\n",
       "      <th>hosp_res</th>\n",
       "      <th>name</th>\n",
       "      <th>num_ins</th>\n",
       "      <th>num_reviews</th>\n",
       "      <th>practice_addr</th>\n",
       "      <th>practice_name</th>\n",
       "      <th>rating</th>\n",
       "      <th>state</th>\n",
       "      <th>zipcode</th>\n",
       "      <th>doc_score</th>\n",
       "      <th>staff_score</th>\n",
       "      <th>has_review</th>\n",
       "    </tr>\n",
       "    <tr>\n",
       "      <th>gender</th>\n",
       "      <th></th>\n",
       "      <th></th>\n",
       "      <th></th>\n",
       "      <th></th>\n",
       "      <th></th>\n",
       "      <th></th>\n",
       "      <th></th>\n",
       "      <th></th>\n",
       "      <th></th>\n",
       "      <th></th>\n",
       "      <th></th>\n",
       "      <th></th>\n",
       "      <th></th>\n",
       "      <th></th>\n",
       "      <th></th>\n",
       "      <th></th>\n",
       "      <th></th>\n",
       "      <th></th>\n",
       "      <th></th>\n",
       "      <th></th>\n",
       "    </tr>\n",
       "  </thead>\n",
       "  <tbody>\n",
       "    <tr>\n",
       "      <th>Female</th>\n",
       "      <td>196</td>\n",
       "      <td>112</td>\n",
       "      <td>196</td>\n",
       "      <td>196</td>\n",
       "      <td>196</td>\n",
       "      <td>196</td>\n",
       "      <td>70</td>\n",
       "      <td>104</td>\n",
       "      <td>82</td>\n",
       "      <td>196</td>\n",
       "      <td>2</td>\n",
       "      <td>196</td>\n",
       "      <td>196</td>\n",
       "      <td>165</td>\n",
       "      <td>112</td>\n",
       "      <td>196</td>\n",
       "      <td>196</td>\n",
       "      <td>112</td>\n",
       "      <td>110</td>\n",
       "      <td>196</td>\n",
       "    </tr>\n",
       "    <tr>\n",
       "      <th>Male</th>\n",
       "      <td>688</td>\n",
       "      <td>567</td>\n",
       "      <td>688</td>\n",
       "      <td>688</td>\n",
       "      <td>688</td>\n",
       "      <td>688</td>\n",
       "      <td>439</td>\n",
       "      <td>551</td>\n",
       "      <td>500</td>\n",
       "      <td>688</td>\n",
       "      <td>5</td>\n",
       "      <td>688</td>\n",
       "      <td>688</td>\n",
       "      <td>605</td>\n",
       "      <td>519</td>\n",
       "      <td>688</td>\n",
       "      <td>688</td>\n",
       "      <td>518</td>\n",
       "      <td>517</td>\n",
       "      <td>688</td>\n",
       "    </tr>\n",
       "  </tbody>\n",
       "</table>\n",
       "</div>"
      ],
      "text/plain": [
       "        addr_street  age  city  detailed_url  featured  hcp_id  hosp_fellow  \\\n",
       "gender                                                                        \n",
       "Female          196  112   196           196       196     196           70   \n",
       "Male            688  567   688           688       688     688          439   \n",
       "\n",
       "        hosp_md  hosp_res  name  num_ins  num_reviews  practice_addr  \\\n",
       "gender                                                                 \n",
       "Female      104        82   196        2          196            196   \n",
       "Male        551       500   688        5          688            688   \n",
       "\n",
       "        practice_name  rating  state  zipcode  doc_score  staff_score  \\\n",
       "gender                                                                  \n",
       "Female            165     112    196      196        112          110   \n",
       "Male              605     519    688      688        518          517   \n",
       "\n",
       "        has_review  \n",
       "gender              \n",
       "Female         196  \n",
       "Male           688  "
      ]
     },
     "execution_count": 570,
     "metadata": {},
     "output_type": "execute_result"
    }
   ],
   "source": [
    "# *\n",
    "# gender distribution (884 doctors with gender info, 7% missing)\n",
    "# total 688 male and 196 female doctors: 78% of NY metro GI docs in the HG database are male \n",
    "# to look up: % F / M GI docs in the US = 17.6% (out of 14,728 total)\n",
    "print(data.gender.value_counts())\n",
    "\n",
    "# counts of each variable split by gender\n",
    "# 75% of male doctors have been reviewed, while only 57% of female doctors have been reviewed\n",
    "data.groupby('gender').count()"
   ]
  },
  {
   "cell_type": "code",
   "execution_count": 571,
   "metadata": {
    "scrolled": true
   },
   "outputs": [
    {
     "name": "stdout",
     "output_type": "stream",
     "text": [
      "10016    85\n",
      "10029    83\n",
      "10021    58\n",
      "10032    52\n",
      "10065    39\n",
      "11375    25\n",
      "10003    24\n",
      "11209    23\n",
      "10128    23\n",
      "11355    21\n",
      "10022    20\n",
      "10028    20\n",
      "11219    19\n",
      "10019    18\n",
      "10010    18\n",
      "11373    18\n",
      "11235    16\n",
      "10075    16\n",
      "11201    16\n",
      "11203    15\n",
      "10013    13\n",
      "07103    13\n",
      "10017    12\n",
      "10038    11\n",
      "10024    10\n",
      "11229    10\n",
      "11215     9\n",
      "10451     8\n",
      "11217     8\n",
      "11220     8\n",
      "         ..\n",
      "11420     1\n",
      "10598     1\n",
      "10452     1\n",
      "11216     1\n",
      "11233     1\n",
      "07010     1\n",
      "10009     1\n",
      "07031     1\n",
      "11243     1\n",
      "10080     1\n",
      "10018     1\n",
      "11419     1\n",
      "10006     1\n",
      "07032     1\n",
      "07029     1\n",
      "07105     1\n",
      "07310     1\n",
      "11249     1\n",
      "11379     1\n",
      "07307     1\n",
      "06405     1\n",
      "11103     1\n",
      "10567     1\n",
      "07087     1\n",
      "10459     1\n",
      "10031     1\n",
      "11225     1\n",
      "10033     1\n",
      "11416     1\n",
      "10701     1\n",
      "Name: zipcode, Length: 118, dtype: int64\n"
     ]
    }
   ],
   "source": [
    "# doc distribution by zipcode\n",
    "print(data.zipcode.value_counts())"
   ]
  },
  {
   "cell_type": "code",
   "execution_count": 572,
   "metadata": {},
   "outputs": [
    {
     "data": {
      "text/plain": [
       "(array([  0.,  25.,  50.,  75., 100., 125., 150., 175., 200., 225.]),\n",
       " <a list of 10 Text yticklabel objects>)"
      ]
     },
     "execution_count": 572,
     "metadata": {},
     "output_type": "execute_result"
    },
    {
     "data": {
      "image/png": "[encoded data removed]",
      "text/plain": [
       "<Figure size 432x288 with 1 Axes>"
      ]
     },
     "metadata": {},
     "output_type": "display_data"
    }
   ],
   "source": [
    "# age distribution: 22% missing\n",
    "plt.hist(data.age.dropna(), rwidth = 0.8, bins = range(30,100,10))\n",
    "plt.xticks(range(30,100,10), fontsize = 12)\n",
    "plt.yticks(fontsize = 12)"
   ]
  },
  {
   "cell_type": "code",
   "execution_count": 574,
   "metadata": {},
   "outputs": [
    {
     "data": {
      "text/plain": [
       "Text(0.5,1,'Histogram of Number of Reviews for Gastroenterologists in New York Metro Area')"
      ]
     },
     "execution_count": 574,
     "metadata": {},
     "output_type": "execute_result"
    },
    {
     "data": {
      "image/png": "[encoded data removed]",
      "text/plain": [
       "<Figure size 864x432 with 1 Axes>"
      ]
     },
     "metadata": {},
     "output_type": "display_data"
    }
   ],
   "source": [
    "# overall distribution of the number of reviews among doctors with at least one review (681, 72%)\n",
    "subdata = data[ data['has_review'] == 1]\n",
    "bstep = 5\n",
    "bmax = int(round(subdata.num_reviews.max()/bstep)*bstep)\n",
    "plt.figure(figsize=(12,6))\n",
    "hout = plt.hist(subdata.num_reviews.dropna(), bins = range(0,bmax,bstep), color = \"blue\", alpha = 0.5, rwidth = 0.8)\n",
    "plt.xticks(np.arange(-bstep*2,bmax+2*bstep,bstep), fontsize = 14)\n",
    "plt.yticks(fontsize = 14)    \n",
    "plt.xlim([-1,90])\n",
    "plt.xlabel('Number of reviews', fontsize = 14)\n",
    "plt.ylabel('Frequency (Number of Doctors)',fontsize = 14)\n",
    "plt.title('Histogram of Number of Reviews for Gastroenterologists in New York Metro Area', fontsize = 16)"
   ]
  },
  {
   "cell_type": "code",
   "execution_count": 575,
   "metadata": {},
   "outputs": [
    {
     "name": "stdout",
     "output_type": "stream",
     "text": [
      "[(5, 0.36470588235294116), (10, 0.6147058823529412), (15, 0.7941176470588235), (20, 0.8823529411764706), (25, 0.9382352941176471), (30, 0.9573529411764706), (35, 0.9661764705882353), (40, 0.975), (45, 0.9794117647058823), (50, 0.9823529411764705), (55, 0.986764705882353), (60, 0.9911764705882353), (65, 0.9911764705882353), (70, 0.9941176470588236), (75, 0.9941176470588236), (80, 0.9970588235294118), (85, 0.9985294117647059), (90, 0.9985294117647059), (95, 0.9985294117647059), (100, 0.9985294117647059), (105, 0.9985294117647059), (110, 0.9985294117647059), (115, 1.0), (120, 1.0), (125, 1.0), (130, 1.0), (135, 1.0), (140, 1.0), (145, 1.0), (150, 1.0), (155, 1.0)]\n"
     ]
    }
   ],
   "source": [
    "#plt.figure()\n",
    "#plt.plot(x = hout[1][1:], y = np.cumsum(hout[0])/np.sum(hout[0]) ) \n",
    "print(list(zip(hout[1][1:],np.cumsum(hout[0])/np.sum(hout[0]))))\n",
    "# 20% doctors have >= 15 reviews \n",
    "# 39% doctors have >= 10 reviews\n",
    "# 64% doctors have >= 5 reviews"
   ]
  },
  {
   "cell_type": "code",
   "execution_count": 576,
   "metadata": {},
   "outputs": [
    {
     "name": "stderr",
     "output_type": "stream",
     "text": [
      "C:\\Users\\yanqi\\Anaconda3\\lib\\site-packages\\ipykernel_launcher.py:6: SettingWithCopyWarning: \n",
      "A value is trying to be set on a copy of a slice from a DataFrame.\n",
      "Try using .loc[row_indexer,col_indexer] = value instead\n",
      "\n",
      "See the caveats in the documentation: http://pandas.pydata.org/pandas-docs/stable/indexing.html#indexing-view-versus-copy\n",
      "  \n"
     ]
    },
    {
     "data": {
      "text/plain": [
       "CategoricalDtype(categories=['L', 'M', 'H'], ordered=True)"
      ]
     },
     "execution_count": 576,
     "metadata": {},
     "output_type": "execute_result"
    }
   ],
   "source": [
    "# Create categorical variable (L/M/H) based on num_reviews\n",
    "# cut_bins = pd.IntervalIndex.from_tuples([(0, 5), (5, 10), (10, 200)])\n",
    "# n_rev_c = pd.DataFrame(pd.cut(subdata['num_reviews'], bins = [0,5,10,200], right = False,  \\\n",
    "#                              labels = ['L', 'M', 'H'] ))\n",
    "\n",
    "subdata['n_rev_c'] = pd.cut(subdata['num_reviews'], bins = [0,5,10,200], right = False,  \\\n",
    "                             labels = ['L', 'M', 'H'] )\n",
    "subdata.loc[:,['num_reviews','n_rev_c']].head(10)\n",
    "subdata['n_rev_c'].dtype"
   ]
  },
  {
   "cell_type": "code",
   "execution_count": 577,
   "metadata": {},
   "outputs": [
    {
     "data": {
      "text/html": [
       "<div>\n",
       "<style scoped>\n",
       "    .dataframe tbody tr th:only-of-type {\n",
       "        vertical-align: middle;\n",
       "    }\n",
       "\n",
       "    .dataframe tbody tr th {\n",
       "        vertical-align: top;\n",
       "    }\n",
       "\n",
       "    .dataframe thead th {\n",
       "        text-align: right;\n",
       "    }\n",
       "</style>\n",
       "<table border=\"1\" class=\"dataframe\">\n",
       "  <thead>\n",
       "    <tr style=\"text-align: right;\">\n",
       "      <th></th>\n",
       "      <th>name</th>\n",
       "      <th>age</th>\n",
       "      <th>gender</th>\n",
       "      <th>num_reviews</th>\n",
       "      <th>rating</th>\n",
       "      <th>practice_name</th>\n",
       "      <th>hosp_fellow</th>\n",
       "      <th>hosp_md</th>\n",
       "    </tr>\n",
       "  </thead>\n",
       "  <tbody>\n",
       "    <tr>\n",
       "      <th>562</th>\n",
       "      <td>Dr. Azeem Khan, MD</td>\n",
       "      <td>59.0</td>\n",
       "      <td>Male</td>\n",
       "      <td>57</td>\n",
       "      <td>4.0</td>\n",
       "      <td>Forest Hills Gastroenterology</td>\n",
       "      <td>New York Medical College Westchester Medical C...</td>\n",
       "      <td>Grant Medical College, Maharashtra University ...</td>\n",
       "    </tr>\n",
       "    <tr>\n",
       "      <th>570</th>\n",
       "      <td>Dr. Gary Gorodokin, MD</td>\n",
       "      <td>57.0</td>\n",
       "      <td>Male</td>\n",
       "      <td>112</td>\n",
       "      <td>4.5</td>\n",
       "      <td>Platinum Wellness Center</td>\n",
       "      <td>Gastroenterology - Long Island College Hospital</td>\n",
       "      <td>Medical School at SUNY Downstate Medical Cente...</td>\n",
       "    </tr>\n",
       "    <tr>\n",
       "      <th>571</th>\n",
       "      <td>Dr. Nilesh Mehta, MD</td>\n",
       "      <td>44.0</td>\n",
       "      <td>Male</td>\n",
       "      <td>57</td>\n",
       "      <td>4.0</td>\n",
       "      <td>Digestive Disease Care</td>\n",
       "      <td>Upstate Med Ctr SUNY-Syracuse</td>\n",
       "      <td>Mgm Medical College</td>\n",
       "    </tr>\n",
       "    <tr>\n",
       "      <th>577</th>\n",
       "      <td>Dr. Vijaypal Arya, MD</td>\n",
       "      <td>56.0</td>\n",
       "      <td>Male</td>\n",
       "      <td>69</td>\n",
       "      <td>4.5</td>\n",
       "      <td>Vijaypal Arya Gastroenterology PC</td>\n",
       "      <td>Allegeny General Hospital (University Of Penns...</td>\n",
       "      <td>Ravindra Nath Tagore Medical College, Rajastha...</td>\n",
       "    </tr>\n",
       "    <tr>\n",
       "      <th>578</th>\n",
       "      <td>Dr. Preeti Mehta, MD</td>\n",
       "      <td>44.0</td>\n",
       "      <td>Female</td>\n",
       "      <td>77</td>\n",
       "      <td>4.5</td>\n",
       "      <td>Digestive Disease Care</td>\n",
       "      <td>SUNY-Syracuse/Upstate Med Ctr</td>\n",
       "      <td>Mount Sinai School Of Medicine Of New York Uni...</td>\n",
       "    </tr>\n",
       "    <tr>\n",
       "      <th>582</th>\n",
       "      <td>Dr. Daniel Alpert, MD</td>\n",
       "      <td>54.0</td>\n",
       "      <td>Male</td>\n",
       "      <td>158</td>\n",
       "      <td>4.5</td>\n",
       "      <td>Daniel J Alpert, MD, PLLC</td>\n",
       "      <td>New York University Med Center</td>\n",
       "      <td>Suny Downstate Medical Center College of Medicine</td>\n",
       "    </tr>\n",
       "    <tr>\n",
       "      <th>583</th>\n",
       "      <td>Dr. Jeffrey Crespin, MD</td>\n",
       "      <td>52.0</td>\n",
       "      <td>Male</td>\n",
       "      <td>84</td>\n",
       "      <td>4.5</td>\n",
       "      <td>Jeffrey S. Crespin, MD</td>\n",
       "      <td>Northwestern Memorial Hospital</td>\n",
       "      <td>Washington University St Louis</td>\n",
       "    </tr>\n",
       "    <tr>\n",
       "      <th>604</th>\n",
       "      <td>Dr. Christine Frissora-Rodeo, MD</td>\n",
       "      <td>49.0</td>\n",
       "      <td>Female</td>\n",
       "      <td>52</td>\n",
       "      <td>4.0</td>\n",
       "      <td>Ira M Jacobson MD</td>\n",
       "      <td>Colum-St Lukes RHC</td>\n",
       "      <td>Weill Cornell Medical College</td>\n",
       "    </tr>\n",
       "    <tr>\n",
       "      <th>605</th>\n",
       "      <td>Dr. Ellen Scherl, MD</td>\n",
       "      <td>66.0</td>\n",
       "      <td>NaN</td>\n",
       "      <td>51</td>\n",
       "      <td>3.5</td>\n",
       "      <td>Jill Roberts Center for InflammatoryBowel Disease</td>\n",
       "      <td>Mount Sinai Medical Center</td>\n",
       "      <td>New York Medical College</td>\n",
       "    </tr>\n",
       "    <tr>\n",
       "      <th>617</th>\n",
       "      <td>Dr. Lawrence Herman, MD</td>\n",
       "      <td>56.0</td>\n",
       "      <td>Male</td>\n",
       "      <td>66</td>\n",
       "      <td>4.5</td>\n",
       "      <td>Medical Associates Of Manhattan</td>\n",
       "      <td>Memorial Sloan Kettering Cancer Center</td>\n",
       "      <td>Joan Sanford I Weill Medical College Of Cornel...</td>\n",
       "    </tr>\n",
       "    <tr>\n",
       "      <th>659</th>\n",
       "      <td>Dr. Arthur Heller, MD</td>\n",
       "      <td>65.0</td>\n",
       "      <td>Male</td>\n",
       "      <td>59</td>\n",
       "      <td>5.0</td>\n",
       "      <td>Arthur D. Heller, MD</td>\n",
       "      <td>Cornell Med Center</td>\n",
       "      <td>Jefferson Medical College Of Thomas Jefferson ...</td>\n",
       "    </tr>\n",
       "    <tr>\n",
       "      <th>663</th>\n",
       "      <td>Dr. Toomas Sorra, MD</td>\n",
       "      <td>69.0</td>\n",
       "      <td>Male</td>\n",
       "      <td>51</td>\n",
       "      <td>5.0</td>\n",
       "      <td>Toomas M Sorra MD</td>\n",
       "      <td>Long Island Coll Hosp</td>\n",
       "      <td>Autonomous University Of Guadalajara / Faculty...</td>\n",
       "    </tr>\n",
       "    <tr>\n",
       "      <th>942</th>\n",
       "      <td>Dr. Ilan Weisberg, MD</td>\n",
       "      <td>NaN</td>\n",
       "      <td>Male</td>\n",
       "      <td>78</td>\n",
       "      <td>2.0</td>\n",
       "      <td>NaN</td>\n",
       "      <td>NaN</td>\n",
       "      <td>NaN</td>\n",
       "    </tr>\n",
       "  </tbody>\n",
       "</table>\n",
       "</div>"
      ],
      "text/plain": [
       "                                 name   age  gender  num_reviews  rating  \\\n",
       "562                Dr. Azeem Khan, MD  59.0    Male           57     4.0   \n",
       "570            Dr. Gary Gorodokin, MD  57.0    Male          112     4.5   \n",
       "571              Dr. Nilesh Mehta, MD  44.0    Male           57     4.0   \n",
       "577             Dr. Vijaypal Arya, MD  56.0    Male           69     4.5   \n",
       "578              Dr. Preeti Mehta, MD  44.0  Female           77     4.5   \n",
       "582             Dr. Daniel Alpert, MD  54.0    Male          158     4.5   \n",
       "583           Dr. Jeffrey Crespin, MD  52.0    Male           84     4.5   \n",
       "604  Dr. Christine Frissora-Rodeo, MD  49.0  Female           52     4.0   \n",
       "605              Dr. Ellen Scherl, MD  66.0     NaN           51     3.5   \n",
       "617           Dr. Lawrence Herman, MD  56.0    Male           66     4.5   \n",
       "659             Dr. Arthur Heller, MD  65.0    Male           59     5.0   \n",
       "663              Dr. Toomas Sorra, MD  69.0    Male           51     5.0   \n",
       "942             Dr. Ilan Weisberg, MD   NaN    Male           78     2.0   \n",
       "\n",
       "                                         practice_name  \\\n",
       "562                      Forest Hills Gastroenterology   \n",
       "570                           Platinum Wellness Center   \n",
       "571                             Digestive Disease Care   \n",
       "577                  Vijaypal Arya Gastroenterology PC   \n",
       "578                             Digestive Disease Care   \n",
       "582                          Daniel J Alpert, MD, PLLC   \n",
       "583                             Jeffrey S. Crespin, MD   \n",
       "604                                  Ira M Jacobson MD   \n",
       "605  Jill Roberts Center for InflammatoryBowel Disease   \n",
       "617                    Medical Associates Of Manhattan   \n",
       "659                               Arthur D. Heller, MD   \n",
       "663                                  Toomas M Sorra MD   \n",
       "942                                                NaN   \n",
       "\n",
       "                                           hosp_fellow  \\\n",
       "562  New York Medical College Westchester Medical C...   \n",
       "570    Gastroenterology - Long Island College Hospital   \n",
       "571                      Upstate Med Ctr SUNY-Syracuse   \n",
       "577  Allegeny General Hospital (University Of Penns...   \n",
       "578                      SUNY-Syracuse/Upstate Med Ctr   \n",
       "582                     New York University Med Center   \n",
       "583                     Northwestern Memorial Hospital   \n",
       "604                                 Colum-St Lukes RHC   \n",
       "605                         Mount Sinai Medical Center   \n",
       "617             Memorial Sloan Kettering Cancer Center   \n",
       "659                                 Cornell Med Center   \n",
       "663                              Long Island Coll Hosp   \n",
       "942                                                NaN   \n",
       "\n",
       "                                               hosp_md  \n",
       "562  Grant Medical College, Maharashtra University ...  \n",
       "570  Medical School at SUNY Downstate Medical Cente...  \n",
       "571                                Mgm Medical College  \n",
       "577  Ravindra Nath Tagore Medical College, Rajastha...  \n",
       "578  Mount Sinai School Of Medicine Of New York Uni...  \n",
       "582  Suny Downstate Medical Center College of Medicine  \n",
       "583                     Washington University St Louis  \n",
       "604                      Weill Cornell Medical College  \n",
       "605                           New York Medical College  \n",
       "617  Joan Sanford I Weill Medical College Of Cornel...  \n",
       "659  Jefferson Medical College Of Thomas Jefferson ...  \n",
       "663  Autonomous University Of Guadalajara / Faculty...  \n",
       "942                                                NaN  "
      ]
     },
     "execution_count": 577,
     "metadata": {},
     "output_type": "execute_result"
    }
   ],
   "source": [
    "# who are the doctors with extremely large # of reviews\n",
    "n_high = 50\n",
    "subdata.loc[ subdata['num_reviews'] >= 50, ['name','age','gender','num_reviews', \\\n",
    "                                            'rating','practice_name','hosp_fellow', 'hosp_md'] ]"
   ]
  },
  {
   "cell_type": "code",
   "execution_count": 581,
   "metadata": {},
   "outputs": [
    {
     "data": {
      "text/plain": [
       "(0, 50)"
      ]
     },
     "execution_count": 581,
     "metadata": {},
     "output_type": "execute_result"
    },
    {
     "data": {
      "image/png": "[encoded data removed]",
      "text/plain": [
       "<Figure size 864x432 with 1 Axes>"
      ]
     },
     "metadata": {},
     "output_type": "display_data"
    }
   ],
   "source": [
    "# how to identify top doctors? Those with high scores and a large number of reviews\n",
    "plt.figure(figsize = (12,6))\n",
    "sns.stripplot(x=\"rating\", y=\"num_reviews\", data=subdata, size = 4, alpha = 0.5, jitter = True);\n",
    "plt.ylim(0,50)\n",
    "# doctors with the poorest ratings are likely to get only a small number of reviews\n",
    "# bottom doctors: with poor rating (e.g. 2.5) based on a large number of reviews \n",
    "# top doctors: perfect score based on large sample size "
   ]
  },
  {
   "cell_type": "code",
   "execution_count": 582,
   "metadata": {},
   "outputs": [
    {
     "name": "stderr",
     "output_type": "stream",
     "text": [
      "C:\\Users\\yanqi\\Anaconda3\\lib\\site-packages\\scipy\\stats\\stats.py:1713: FutureWarning: Using a non-tuple sequence for multidimensional indexing is deprecated; use `arr[tuple(seq)]` instead of `arr[seq]`. In the future this will be interpreted as an array index, `arr[np.array(seq)]`, which will result either in an error or a different result.\n",
      "  return np.add.reduce(sorted[indexer] * weights, axis=axis) / sumval\n"
     ]
    },
    {
     "data": {
      "text/plain": [
       "Text(0,0.5,'Overall Rating')"
      ]
     },
     "execution_count": 582,
     "metadata": {},
     "output_type": "execute_result"
    },
    {
     "data": {
      "image/png": "[encoded data removed]",
      "text/plain": [
       "<Figure size 432x288 with 1 Axes>"
      ]
     },
     "metadata": {},
     "output_type": "display_data"
    }
   ],
   "source": [
    "# violin plot to show rating distribution by number of review buckets\n",
    "ax = sns.violinplot(x= \"n_rev_c\", y= \"rating\", data=subdata, palette=\"Set3\")\n",
    "plt.xlabel('Category based on Number of Reviews')\n",
    "plt.ylabel('Overall Rating')"
   ]
  },
  {
   "cell_type": "code",
   "execution_count": 601,
   "metadata": {},
   "outputs": [
    {
     "data": {
      "text/plain": [
       "Text(0,0.5,'Number of doctors')"
      ]
     },
     "execution_count": 601,
     "metadata": {},
     "output_type": "execute_result"
    },
    {
     "data": {
      "image/png": "[encoded data removed]",
      "text/plain": [
       "<Figure size 432x288 with 1 Axes>"
      ]
     },
     "metadata": {},
     "output_type": "display_data"
    }
   ],
   "source": [
    "# overall distribution of score among doctors with at least 5 reviews \n",
    "n = 5\n",
    "score = data.loc[ data['num_reviews'] >= n ]\n",
    "\n",
    "colors = [ \"pale red\", \"salmon pink\", \"tangerine\", \"maize\", \"tiffany blue\", \\\n",
    "          \"aqua green\",\"algae green\",\"emerald\"]\n",
    "\n",
    "ax = sns.countplot( x = 'rating', data = score, palette = sns.xkcd_palette(colors) )\n",
    "plt.xticks(fontsize = 14)\n",
    "plt.xlabel('Overall Rating \\n (likelihood to recommend the doctor)', fontsize = 14)\n",
    "plt.ylabel('Number of doctors', fontsize = 14)"
   ]
  },
  {
   "cell_type": "code",
   "execution_count": 584,
   "metadata": {},
   "outputs": [
    {
     "data": {
      "text/plain": [
       "Text(0,0.5,'Number of doctors')"
      ]
     },
     "execution_count": 584,
     "metadata": {},
     "output_type": "execute_result"
    },
    {
     "data": {
      "image/png": "[encoded data removed]",
      "text/plain": [
       "<Figure size 432x288 with 1 Axes>"
      ]
     },
     "metadata": {},
     "output_type": "display_data"
    }
   ],
   "source": [
    "# overall distribution of score among doctors with at least 10 reviews \n",
    "n = 10\n",
    "score = data.loc[ data['num_reviews'] >= n ]\n",
    "\n",
    "colors = [ \"pale red\", \"salmon pink\", \"tangerine\", \"maize\", \"tiffany blue\", \\\n",
    "          \"aqua green\",\"algae green\",\"emerald\"]\n",
    "\n",
    "ax = sns.countplot( x = 'rating', data = score, palette = sns.xkcd_palette(colors) )\n",
    "plt.xticks(fontsize = 14)\n",
    "plt.xlabel('Overall Rating \\n (likelihood to recommend the doctor)', fontsize = 14)\n",
    "plt.ylabel('Number of doctors', fontsize = 14)"
   ]
  },
  {
   "cell_type": "code",
   "execution_count": null,
   "metadata": {},
   "outputs": [],
   "source": [
    "# seaborn version of the distribution plot\n",
    "# import seaborn as sns\n",
    "# from scipy import stats\n",
    "# sns.set_style(\"darkgrid\")\n",
    "# bstep = 5\n",
    "# bmax = int(round(newdata.num_reviews.max()/bstep)*bstep)\n",
    "# plt.figure(figsize=(12,6))\n",
    "# sns.distplot(newdata.num_reviews.dropna(),bins = range(0,bmax,bstep), color = \"blue\", \\\n",
    "#               fit = stats.expon, kde=False, hist_kws={'rwidth':0.7}, fit_kws = {'lw':1})\n",
    "# plt.xticks(np.arange(-bstep,bmax+2*bstep,bstep*2), fontsize = 12)\n",
    "# plt.yticks(fontsize = 12) \n",
    "#plt.xlim([0,60])"
   ]
  },
  {
   "cell_type": "code",
   "execution_count": 594,
   "metadata": {},
   "outputs": [
    {
     "data": {
      "text/plain": [
       "(0, 40)"
      ]
     },
     "execution_count": 594,
     "metadata": {},
     "output_type": "execute_result"
    },
    {
     "data": {
      "text/plain": [
       "<Figure size 720x432 with 0 Axes>"
      ]
     },
     "metadata": {},
     "output_type": "display_data"
    },
    {
     "data": {
      "image/png": "[encoded data removed]",
      "text/plain": [
       "<Figure size 432x288 with 1 Axes>"
      ]
     },
     "metadata": {},
     "output_type": "display_data"
    }
   ],
   "source": [
    "plt.figure(figsize =(10,6))\n",
    "subdata.plot(kind='scatter',x='age', y='num_reviews', alpha = 0.6)\n",
    "plt.ylim(0,40)"
   ]
  },
  {
   "cell_type": "code",
   "execution_count": 602,
   "metadata": {},
   "outputs": [
    {
     "data": {
      "text/plain": [
       "<matplotlib.axes._subplots.AxesSubplot at 0x219ccf957b8>"
      ]
     },
     "execution_count": 602,
     "metadata": {},
     "output_type": "execute_result"
    },
    {
     "data": {
      "image/png": "[encoded data removed]",
      "text/plain": [
       "<Figure size 720x432 with 1 Axes>"
      ]
     },
     "metadata": {},
     "output_type": "display_data"
    }
   ],
   "source": [
    "plt.figure(figsize =(10,6))\n",
    "sns.stripplot(x='age', y='rating', data = score, alpha = 0.6, jitter = True)\n",
    "\n",
    "# violin or box plot based on age bucket: "
   ]
  },
  {
   "cell_type": "code",
   "execution_count": 585,
   "metadata": {},
   "outputs": [
    {
     "data": {
      "text/plain": [
       "(0, 50)"
      ]
     },
     "execution_count": 585,
     "metadata": {},
     "output_type": "execute_result"
    },
    {
     "data": {
      "image/png": "[encoded data removed]",
      "text/plain": [
       "<Figure size 432x288 with 1 Axes>"
      ]
     },
     "metadata": {},
     "output_type": "display_data"
    }
   ],
   "source": [
    "# distribution of reviews by gender\n",
    "# sns.boxplot(x='gender', y='num_reviews', data=subdata.loc[ subdata['num_reviews'] <= 50 ])\n",
    "sns.boxplot( y ='gender', x ='num_reviews', data=subdata, palette = 'Set3')\n",
    "plt.xlim(0, 50)\n",
    "\n",
    "# Female GI doctors receive seem to have lower visibility among patients and receive fewer reviews\n",
    "# The doctors who receive extremely large number of reviews are almost all male doctors"
   ]
  },
  {
   "cell_type": "code",
   "execution_count": 590,
   "metadata": {},
   "outputs": [
    {
     "data": {
      "text/plain": [
       "<matplotlib.axes._subplots.AxesSubplot at 0x219cd0bd1d0>"
      ]
     },
     "execution_count": 590,
     "metadata": {},
     "output_type": "execute_result"
    },
    {
     "data": {
      "image/png": "[encoded data removed]",
      "text/plain": [
       "<Figure size 432x288 with 1 Axes>"
      ]
     },
     "metadata": {},
     "output_type": "display_data"
    }
   ],
   "source": [
    "# distribution of overall rating by gender\n",
    "sns.boxplot( y ='gender', x ='rating', data=score, palette = 'Set3')\n",
    "\n",
    "# no difference in rating distribution for female & male doctors with 5 or more reviews"
   ]
  },
  {
   "cell_type": "code",
   "execution_count": 591,
   "metadata": {},
   "outputs": [
    {
     "data": {
      "text/html": [
       "<div>\n",
       "<style scoped>\n",
       "    .dataframe tbody tr th:only-of-type {\n",
       "        vertical-align: middle;\n",
       "    }\n",
       "\n",
       "    .dataframe tbody tr th {\n",
       "        vertical-align: top;\n",
       "    }\n",
       "\n",
       "    .dataframe thead th {\n",
       "        text-align: right;\n",
       "    }\n",
       "</style>\n",
       "<table border=\"1\" class=\"dataframe\">\n",
       "  <thead>\n",
       "    <tr style=\"text-align: right;\">\n",
       "      <th></th>\n",
       "      <th>age</th>\n",
       "      <th>num_reviews</th>\n",
       "      <th>doc_score</th>\n",
       "      <th>staff_score</th>\n",
       "      <th>rating</th>\n",
       "    </tr>\n",
       "  </thead>\n",
       "  <tbody>\n",
       "    <tr>\n",
       "      <th>age</th>\n",
       "      <td>1.000000</td>\n",
       "      <td>-0.059392</td>\n",
       "      <td>-0.029241</td>\n",
       "      <td>-0.054558</td>\n",
       "      <td>-0.025438</td>\n",
       "    </tr>\n",
       "    <tr>\n",
       "      <th>num_reviews</th>\n",
       "      <td>-0.059392</td>\n",
       "      <td>1.000000</td>\n",
       "      <td>-0.040358</td>\n",
       "      <td>-0.009390</td>\n",
       "      <td>-0.030143</td>\n",
       "    </tr>\n",
       "    <tr>\n",
       "      <th>doc_score</th>\n",
       "      <td>-0.029241</td>\n",
       "      <td>-0.040358</td>\n",
       "      <td>1.000000</td>\n",
       "      <td>0.821325</td>\n",
       "      <td>0.949938</td>\n",
       "    </tr>\n",
       "    <tr>\n",
       "      <th>staff_score</th>\n",
       "      <td>-0.054558</td>\n",
       "      <td>-0.009390</td>\n",
       "      <td>0.821325</td>\n",
       "      <td>1.000000</td>\n",
       "      <td>0.831526</td>\n",
       "    </tr>\n",
       "    <tr>\n",
       "      <th>rating</th>\n",
       "      <td>-0.025438</td>\n",
       "      <td>-0.030143</td>\n",
       "      <td>0.949938</td>\n",
       "      <td>0.831526</td>\n",
       "      <td>1.000000</td>\n",
       "    </tr>\n",
       "  </tbody>\n",
       "</table>\n",
       "</div>"
      ],
      "text/plain": [
       "                  age  num_reviews  doc_score  staff_score    rating\n",
       "age          1.000000    -0.059392  -0.029241    -0.054558 -0.025438\n",
       "num_reviews -0.059392     1.000000  -0.040358    -0.009390 -0.030143\n",
       "doc_score   -0.029241    -0.040358   1.000000     0.821325  0.949938\n",
       "staff_score -0.054558    -0.009390   0.821325     1.000000  0.831526\n",
       "rating      -0.025438    -0.030143   0.949938     0.831526  1.000000"
      ]
     },
     "execution_count": 591,
     "metadata": {},
     "output_type": "execute_result"
    }
   ],
   "source": [
    "numdata = subdata.loc[:,['age', 'num_reviews', 'doc_score', 'staff_score', 'rating']]\n",
    "numdata.corr(min_periods = 50)"
   ]
  },
  {
   "cell_type": "code",
   "execution_count": null,
   "metadata": {},
   "outputs": [],
   "source": [
    "# scores = subdata.loc[:,['doc_trust', 'doc_explain', 'doc_answer','doc_time',\\\n",
    "#                'staff_scheduling','staff_env', 'staff_friendly', 'rating']]\n",
    "# scores.corr(min_periods = 50)"
   ]
  },
  {
   "cell_type": "code",
   "execution_count": null,
   "metadata": {},
   "outputs": [],
   "source": [
    "from pandas.plotting import scatter_matrix\n",
    "scatter_matrix(scores.loc[:,['rating','staff_score','doc_score']], \\\n",
    "               alpha=0.2, figsize=(12, 12), diagonal='hist')"
   ]
  },
  {
   "cell_type": "code",
   "execution_count": 610,
   "metadata": {},
   "outputs": [
    {
     "data": {
      "image/png": "[encoded data removed]",
      "text/plain": [
       "<Figure size 432x432 with 1 Axes>"
      ]
     },
     "metadata": {},
     "output_type": "display_data"
    }
   ],
   "source": [
    "plt.figure(figsize = (6,6))\n",
    "plt.scatter(x=\"doc_score\", y=\"rating\", data=score, alpha = 0.5);"
   ]
  },
  {
   "cell_type": "code",
   "execution_count": 611,
   "metadata": {},
   "outputs": [
    {
     "data": {
      "image/png": "[encoded data removed]",
      "text/plain": [
       "<Figure size 432x432 with 1 Axes>"
      ]
     },
     "metadata": {},
     "output_type": "display_data"
    }
   ],
   "source": [
    "plt.figure(figsize = (6,6))\n",
    "plt.scatter(x=\"staff_score\", y=\"rating\", data=score, alpha = 0.5);"
   ]
  },
  {
   "cell_type": "code",
   "execution_count": 612,
   "metadata": {},
   "outputs": [
    {
     "data": {
      "image/png": "[encoded data removed]",
      "text/plain": [
       "<Figure size 432x432 with 1 Axes>"
      ]
     },
     "metadata": {},
     "output_type": "display_data"
    }
   ],
   "source": [
    "plt.figure(figsize = (6,6))\n",
    "plt.scatter(x=\"doc_score\", y=\"staff_score\", data=score, alpha = 0.5);"
   ]
  },
  {
   "cell_type": "code",
   "execution_count": null,
   "metadata": {},
   "outputs": [],
   "source": []
  }
 ],
 "metadata": {
  "kernelspec": {
   "display_name": "Python 3",
   "language": "python",
   "name": "python3"
  },
  "language_info": {
   "codemirror_mode": {
    "name": "ipython",
    "version": 3
   },
   "file_extension": ".py",
   "mimetype": "text/x-python",
   "name": "python",
   "nbconvert_exporter": "python",
   "pygments_lexer": "ipython3",
   "version": "3.7.0"
  }
 },
 "nbformat": 4,
 "nbformat_minor": 2
}
