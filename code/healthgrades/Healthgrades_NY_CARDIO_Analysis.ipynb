{
 "cells": [
  {
   "cell_type": "markdown",
   "metadata": {},
   "source": [
    "Analysis Outline\n",
    "\n",
    "Introduction of the dataset\n",
    "- Acknowledgement of missing data.\n",
    "- Definition of subsets of analysis (eg docs with at least 1 or at least 5 reviews)\n",
    "\n",
    "Physician universe and demographics\n",
    "- Coverage of healthgrades GI doctors (19,000+ national)\n",
    "- Number of GI doctors in NY metro (947) = 6% of national active GI doctors (14,728 by ? year)\n",
    "- Overall rating distribution\n",
    "\n",
    "Influence of # of reviews\n",
    "- Overall # of review distribution\n",
    "- Number of reviews vs. rating (highlight top positive/negative)\n",
    "- Doctors with large number of reviews: gender, age, location, rating\n",
    "\n",
    "Influence of age\n",
    "- Distribution of age\n",
    "- Create age groups\n",
    "- Number of reviews vs. age\n",
    "- Rating by age group (are more experienced physicians better rated?)\n",
    "\n",
    "Influence of gender\n",
    "- Gender distribution: 22% female vs. 18% national\n",
    "- Number of reviews is skewed by gender...\n",
    "- ...but rating distribution is not\n",
    "\n",
    "Influnece of educational history\n",
    "- (todo) Educational history (where they came from)\n",
    "- Rating distribution by top institutions\n",
    "  (either #1 vs #2 or top few vs everyone else)\n",
    "\n",
    "Influence of staff performance\n",
    "- (todo) Rating vs. doctor score vs. staff score: heatmap\n",
    "- Extreme: Doctors whose doc_score is very different from staff_score (check comments) \n",
    " "
   ]
  },
  {
   "cell_type": "code",
   "execution_count": 2,
   "metadata": {},
   "outputs": [],
   "source": [
    "%matplotlib inline\n",
    "import pandas as pd\n",
    "import numpy as np\n",
    "from scipy import stats\n",
    "from matplotlib import pyplot as plt\n",
    "import seaborn as sns\n",
    "plt.style.use('ggplot')\n",
    "\n",
    "SMALL_SIZE = 10\n",
    "MEDIUM_SIZE = 12\n",
    "BIGGER_SIZE = 14\n",
    "LARGE_SIZE = 16\n",
    "\n",
    "plt.rc('font', size=SMALL_SIZE)          # controls default text sizes\n",
    "plt.rc('axes', titlesize=BIGGER_SIZE)     # fontsize of the axes title\n",
    "plt.rc('axes', labelsize=BIGGER_SIZE)    # fontsize of the x and y labels\n",
    "plt.rc('xtick', labelsize=MEDIUM_SIZE)    # fontsize of the tick labels\n",
    "plt.rc('ytick', labelsize=MEDIUM_SIZE)    # fontsize of the tick labels\n",
    "plt.rc('legend', fontsize=SMALL_SIZE)    # legend fontsize\n",
    "plt.rc('figure', titlesize=LARGE_SIZE)  # fontsize of the figure title\n",
    "\n",
    "pd.set_option('display.max_columns', 50)"
   ]
  },
  {
   "cell_type": "code",
   "execution_count": 3,
   "metadata": {},
   "outputs": [
    {
     "data": {
      "text/html": [
       "<div>\n",
       "<style scoped>\n",
       "    .dataframe tbody tr th:only-of-type {\n",
       "        vertical-align: middle;\n",
       "    }\n",
       "\n",
       "    .dataframe tbody tr th {\n",
       "        vertical-align: top;\n",
       "    }\n",
       "\n",
       "    .dataframe thead th {\n",
       "        text-align: right;\n",
       "    }\n",
       "</style>\n",
       "<table border=\"1\" class=\"dataframe\">\n",
       "  <thead>\n",
       "    <tr style=\"text-align: right;\">\n",
       "      <th></th>\n",
       "      <th>name</th>\n",
       "      <th>hcp_id</th>\n",
       "      <th>age</th>\n",
       "      <th>gender</th>\n",
       "      <th>num_reviews</th>\n",
       "      <th>rating</th>\n",
       "      <th>doc_rating</th>\n",
       "      <th>staff_rating</th>\n",
       "      <th>practice_name</th>\n",
       "      <th>hosp_fellow</th>\n",
       "      <th>hosp_md</th>\n",
       "      <th>hosp_res</th>\n",
       "      <th>practice_addr</th>\n",
       "      <th>city</th>\n",
       "      <th>state</th>\n",
       "      <th>zipcode</th>\n",
       "    </tr>\n",
       "  </thead>\n",
       "  <tbody>\n",
       "    <tr>\n",
       "      <th>1037</th>\n",
       "      <td>Dr. Franklyn Laifer, MD</td>\n",
       "      <td>dr-franklyn-laifer-2v62v</td>\n",
       "      <td>79.0</td>\n",
       "      <td>Male</td>\n",
       "      <td>0</td>\n",
       "      <td>NaN</td>\n",
       "      <td>NaN</td>\n",
       "      <td>NaN</td>\n",
       "      <td>NaN</td>\n",
       "      <td>NaN</td>\n",
       "      <td>NaN</td>\n",
       "      <td>NaN</td>\n",
       "      <td>311 E 72nd St Apt 2G, New York, NY, 10021</td>\n",
       "      <td>New York</td>\n",
       "      <td>NY</td>\n",
       "      <td>10021</td>\n",
       "    </tr>\n",
       "    <tr>\n",
       "      <th>98</th>\n",
       "      <td>Dr. Fadi Chaaban, MD</td>\n",
       "      <td>dr-fadi-chaaban-3hdht</td>\n",
       "      <td>53.0</td>\n",
       "      <td>Male</td>\n",
       "      <td>6</td>\n",
       "      <td>3.5</td>\n",
       "      <td>4.0|4.0|4.0|4.0</td>\n",
       "      <td>3.5|3.5|4.0</td>\n",
       "      <td>New Jersey Cardiology Asscos</td>\n",
       "      <td>St Michael's Med Ctr/Seton Hall University</td>\n",
       "      <td>Faculte Francaise De Medecine Et De Pharmacie</td>\n",
       "      <td>St Michael's Med Ctr/Seton Hall University</td>\n",
       "      <td>5 Franklin Ave Ste 202, Belleville, NJ, 07109</td>\n",
       "      <td>Belleville</td>\n",
       "      <td>NJ</td>\n",
       "      <td>7109</td>\n",
       "    </tr>\n",
       "    <tr>\n",
       "      <th>1541</th>\n",
       "      <td>Dr. Ahmed Aslam, MD</td>\n",
       "      <td>dr-ahmed-aslam-ys4q5</td>\n",
       "      <td>44.0</td>\n",
       "      <td>Male</td>\n",
       "      <td>0</td>\n",
       "      <td>NaN</td>\n",
       "      <td>NaN</td>\n",
       "      <td>NaN</td>\n",
       "      <td>Ahmad K Aslam/Ahmed F Aslam MDs</td>\n",
       "      <td>NaN</td>\n",
       "      <td>NaN</td>\n",
       "      <td>NaN</td>\n",
       "      <td>945 Coney Island Ave, Brooklyn, NY, 11230</td>\n",
       "      <td>Brooklyn</td>\n",
       "      <td>NY</td>\n",
       "      <td>11230</td>\n",
       "    </tr>\n",
       "    <tr>\n",
       "      <th>1476</th>\n",
       "      <td>Dr. Ankur Sethi, MD</td>\n",
       "      <td>dr-ankur-sethi-2sch6</td>\n",
       "      <td>37.0</td>\n",
       "      <td>Male</td>\n",
       "      <td>0</td>\n",
       "      <td>NaN</td>\n",
       "      <td>NaN</td>\n",
       "      <td>NaN</td>\n",
       "      <td>Mount Sinai Med Ctr Hsptlsts</td>\n",
       "      <td>NaN</td>\n",
       "      <td>NaN</td>\n",
       "      <td>NaN</td>\n",
       "      <td>1 Gustave L Levy Pl, New York, NY, 10029</td>\n",
       "      <td>New York</td>\n",
       "      <td>NY</td>\n",
       "      <td>10029</td>\n",
       "    </tr>\n",
       "    <tr>\n",
       "      <th>930</th>\n",
       "      <td>Dr. Noa Zemer Wassercug, MD</td>\n",
       "      <td>dr-noa-zemer-wassercug-xyn3hyx</td>\n",
       "      <td>NaN</td>\n",
       "      <td>Female</td>\n",
       "      <td>0</td>\n",
       "      <td>NaN</td>\n",
       "      <td>NaN</td>\n",
       "      <td>NaN</td>\n",
       "      <td>Drusin Mds</td>\n",
       "      <td>NaN</td>\n",
       "      <td>NaN</td>\n",
       "      <td>NaN</td>\n",
       "      <td>161 Fort Washington Ave # 64, New York, NY, 10032</td>\n",
       "      <td>New York</td>\n",
       "      <td>NY</td>\n",
       "      <td>10032</td>\n",
       "    </tr>\n",
       "  </tbody>\n",
       "</table>\n",
       "</div>"
      ],
      "text/plain": [
       "                             name                          hcp_id   age  \\\n",
       "1037      Dr. Franklyn Laifer, MD        dr-franklyn-laifer-2v62v  79.0   \n",
       "98           Dr. Fadi Chaaban, MD           dr-fadi-chaaban-3hdht  53.0   \n",
       "1541          Dr. Ahmed Aslam, MD            dr-ahmed-aslam-ys4q5  44.0   \n",
       "1476          Dr. Ankur Sethi, MD            dr-ankur-sethi-2sch6  37.0   \n",
       "930   Dr. Noa Zemer Wassercug, MD  dr-noa-zemer-wassercug-xyn3hyx   NaN   \n",
       "\n",
       "      gender  num_reviews  rating       doc_rating staff_rating  \\\n",
       "1037    Male            0     NaN              NaN          NaN   \n",
       "98      Male            6     3.5  4.0|4.0|4.0|4.0  3.5|3.5|4.0   \n",
       "1541    Male            0     NaN              NaN          NaN   \n",
       "1476    Male            0     NaN              NaN          NaN   \n",
       "930   Female            0     NaN              NaN          NaN   \n",
       "\n",
       "                        practice_name  \\\n",
       "1037                              NaN   \n",
       "98       New Jersey Cardiology Asscos   \n",
       "1541  Ahmad K Aslam/Ahmed F Aslam MDs   \n",
       "1476     Mount Sinai Med Ctr Hsptlsts   \n",
       "930                        Drusin Mds   \n",
       "\n",
       "                                     hosp_fellow  \\\n",
       "1037                                         NaN   \n",
       "98    St Michael's Med Ctr/Seton Hall University   \n",
       "1541                                         NaN   \n",
       "1476                                         NaN   \n",
       "930                                          NaN   \n",
       "\n",
       "                                            hosp_md  \\\n",
       "1037                                            NaN   \n",
       "98    Faculte Francaise De Medecine Et De Pharmacie   \n",
       "1541                                            NaN   \n",
       "1476                                            NaN   \n",
       "930                                             NaN   \n",
       "\n",
       "                                        hosp_res  \\\n",
       "1037                                         NaN   \n",
       "98    St Michael's Med Ctr/Seton Hall University   \n",
       "1541                                         NaN   \n",
       "1476                                         NaN   \n",
       "930                                          NaN   \n",
       "\n",
       "                                          practice_addr        city state  \\\n",
       "1037          311 E 72nd St Apt 2G, New York, NY, 10021    New York    NY   \n",
       "98        5 Franklin Ave Ste 202, Belleville, NJ, 07109  Belleville    NJ   \n",
       "1541          945 Coney Island Ave, Brooklyn, NY, 11230    Brooklyn    NY   \n",
       "1476           1 Gustave L Levy Pl, New York, NY, 10029    New York    NY   \n",
       "930   161 Fort Washington Ave # 64, New York, NY, 10032    New York    NY   \n",
       "\n",
       "      zipcode  \n",
       "1037    10021  \n",
       "98       7109  \n",
       "1541    11230  \n",
       "1476    10029  \n",
       "930     10032  "
      ]
     },
     "execution_count": 3,
     "metadata": {},
     "output_type": "execute_result"
    }
   ],
   "source": [
    "r_fname = 'healthgrades_physicians_CARDIO_NY_full_raw.csv'\n",
    "fname = 'healthgrades_physicians_CARDIO_NY_full.csv'\n",
    "# Remove blank lines in raw csv file (scrapy bug for windows)\n",
    "raw_data = pd.read_csv(r_fname)\n",
    "\n",
    "# do not write index column\n",
    "raw_data.to_csv(fname, index = False)  \n",
    "\n",
    "# specify columns to read in for analysis\n",
    "cols_in = ['name', 'hcp_id', 'age', 'gender', 'num_reviews', 'rating','doc_rating', 'staff_rating', \\\n",
    "            'practice_name', 'hosp_fellow', 'hosp_md', 'hosp_res', \n",
    "            'practice_addr','city', 'state', 'zipcode']\n",
    "\n",
    "# read in fixed csv file\n",
    "data = pd.read_csv(fname, usecols = cols_in)[cols_in] \n",
    "data.sample(5)"
   ]
  },
  {
   "cell_type": "code",
   "execution_count": 4,
   "metadata": {},
   "outputs": [
    {
     "name": "stdout",
     "output_type": "stream",
     "text": [
      "(1572, 16)\n",
      "0\n",
      "Index(['name', 'hcp_id', 'age', 'gender', 'num_reviews', 'rating',\n",
      "       'doc_rating', 'staff_rating', 'practice_name', 'hosp_fellow', 'hosp_md',\n",
      "       'hosp_res', 'practice_addr', 'city', 'state', 'zipcode'],\n",
      "      dtype='object')\n",
      "name <class 'str'>\n",
      "hcp_id <class 'str'>\n",
      "age <class 'numpy.float64'>\n",
      "gender <class 'str'>\n",
      "num_reviews <class 'numpy.int64'>\n",
      "rating <class 'numpy.float64'>\n",
      "doc_rating <class 'str'>\n",
      "staff_rating <class 'str'>\n",
      "practice_name <class 'str'>\n",
      "hosp_fellow <class 'str'>\n",
      "hosp_md <class 'str'>\n",
      "hosp_res <class 'str'>\n",
      "practice_addr <class 'str'>\n",
      "city <class 'str'>\n",
      "state <class 'str'>\n",
      "zipcode <class 'numpy.int64'>\n"
     ]
    }
   ],
   "source": [
    "# Data inspection\n",
    "print(data.shape)\n",
    "# check for duplicates based on hcp_id, there shouldn't be any\n",
    "print(np.sum(data.duplicated(subset = ['hcp_id'])))\n",
    "print(data.columns)\n",
    "for field in data.columns:\n",
    "    print(field, type(data.loc[0,field]))"
   ]
  },
  {
   "cell_type": "code",
   "execution_count": 5,
   "metadata": {},
   "outputs": [
    {
     "data": {
      "text/html": [
       "<div>\n",
       "<style scoped>\n",
       "    .dataframe tbody tr th:only-of-type {\n",
       "        vertical-align: middle;\n",
       "    }\n",
       "\n",
       "    .dataframe tbody tr th {\n",
       "        vertical-align: top;\n",
       "    }\n",
       "\n",
       "    .dataframe thead th {\n",
       "        text-align: right;\n",
       "    }\n",
       "</style>\n",
       "<table border=\"1\" class=\"dataframe\">\n",
       "  <thead>\n",
       "    <tr style=\"text-align: right;\">\n",
       "      <th></th>\n",
       "      <th>name</th>\n",
       "      <th>hcp_id</th>\n",
       "      <th>age</th>\n",
       "      <th>gender</th>\n",
       "      <th>num_reviews</th>\n",
       "      <th>rating</th>\n",
       "      <th>doc_score</th>\n",
       "      <th>staff_score</th>\n",
       "      <th>practice_name</th>\n",
       "      <th>hosp_fellow</th>\n",
       "      <th>hosp_md</th>\n",
       "      <th>hosp_res</th>\n",
       "      <th>practice_addr</th>\n",
       "      <th>city</th>\n",
       "      <th>state</th>\n",
       "      <th>zipcode</th>\n",
       "    </tr>\n",
       "  </thead>\n",
       "  <tbody>\n",
       "    <tr>\n",
       "      <th>1416</th>\n",
       "      <td>Dr. Icilma Fergus, MD</td>\n",
       "      <td>dr-icilma-fergus-2vv62</td>\n",
       "      <td>54.0</td>\n",
       "      <td>Female</td>\n",
       "      <td>2</td>\n",
       "      <td>3.0</td>\n",
       "      <td>3.0</td>\n",
       "      <td>2.833333</td>\n",
       "      <td>Harlem Hospital Center CAR</td>\n",
       "      <td>New York Presbyterian Hospital/Weill Cornell M...</td>\n",
       "      <td>SUNY</td>\n",
       "      <td>Albert Einstein College Med</td>\n",
       "      <td>506 Malcolm X Blvd Ste MLK15101, New York, NY,...</td>\n",
       "      <td>New York</td>\n",
       "      <td>NY</td>\n",
       "      <td>10037</td>\n",
       "    </tr>\n",
       "    <tr>\n",
       "      <th>602</th>\n",
       "      <td>Shahed Quraishi, MB</td>\n",
       "      <td>dr-shahed-quraishi-37pdj</td>\n",
       "      <td>50.0</td>\n",
       "      <td>Male</td>\n",
       "      <td>0</td>\n",
       "      <td>NaN</td>\n",
       "      <td>NaN</td>\n",
       "      <td>NaN</td>\n",
       "      <td>WYCKOFF HEIGHTS MEDICAL CENTER</td>\n",
       "      <td>NaN</td>\n",
       "      <td>Bangalore Medical College, Rajiv Gandhi Univer...</td>\n",
       "      <td>NaN</td>\n",
       "      <td>374 Stockholm St, Brooklyn, NY, 11237</td>\n",
       "      <td>Brooklyn</td>\n",
       "      <td>NY</td>\n",
       "      <td>11237</td>\n",
       "    </tr>\n",
       "    <tr>\n",
       "      <th>883</th>\n",
       "      <td>Dr. Olena Dotsenko, MD</td>\n",
       "      <td>dr-olena-dotsenko-xktfl</td>\n",
       "      <td>45.0</td>\n",
       "      <td>Female</td>\n",
       "      <td>0</td>\n",
       "      <td>NaN</td>\n",
       "      <td>NaN</td>\n",
       "      <td>NaN</td>\n",
       "      <td>NaN</td>\n",
       "      <td>NaN</td>\n",
       "      <td>NaN</td>\n",
       "      <td>NaN</td>\n",
       "      <td>361 91st St Apt 2, Brooklyn, NY, 11209</td>\n",
       "      <td>Brooklyn</td>\n",
       "      <td>NY</td>\n",
       "      <td>11209</td>\n",
       "    </tr>\n",
       "    <tr>\n",
       "      <th>206</th>\n",
       "      <td>Dr. Joshua Socolow, MD</td>\n",
       "      <td>dr-joshua-socolow-3crqx</td>\n",
       "      <td>47.0</td>\n",
       "      <td>NaN</td>\n",
       "      <td>1</td>\n",
       "      <td>5.0</td>\n",
       "      <td>5.0</td>\n",
       "      <td>5.000000</td>\n",
       "      <td>NYP Brooklyn Methodist Hospital</td>\n",
       "      <td>Emory University School Of Medicine</td>\n",
       "      <td>Washington University In St Louis School Of Me...</td>\n",
       "      <td>University Of Chicago Medical Center</td>\n",
       "      <td>506 6th St, Brooklyn, NY, 11215</td>\n",
       "      <td>Brooklyn</td>\n",
       "      <td>NY</td>\n",
       "      <td>11215</td>\n",
       "    </tr>\n",
       "    <tr>\n",
       "      <th>1321</th>\n",
       "      <td>Dr. Mohammad Sandhu, MD</td>\n",
       "      <td>dr-mohammed-sandhu-y5bld</td>\n",
       "      <td>73.0</td>\n",
       "      <td>Male</td>\n",
       "      <td>4</td>\n",
       "      <td>4.0</td>\n",
       "      <td>5.0</td>\n",
       "      <td>4.166667</td>\n",
       "      <td>Newark Beth Israel Med Ctr Card</td>\n",
       "      <td>NaN</td>\n",
       "      <td>NaN</td>\n",
       "      <td>Jersey City Med Center</td>\n",
       "      <td>672 Broadway, Bayonne, NJ, 07002</td>\n",
       "      <td>Bayonne</td>\n",
       "      <td>NJ</td>\n",
       "      <td>07002</td>\n",
       "    </tr>\n",
       "  </tbody>\n",
       "</table>\n",
       "</div>"
      ],
      "text/plain": [
       "                         name                    hcp_id   age  gender  \\\n",
       "1416    Dr. Icilma Fergus, MD    dr-icilma-fergus-2vv62  54.0  Female   \n",
       "602       Shahed Quraishi, MB  dr-shahed-quraishi-37pdj  50.0    Male   \n",
       "883    Dr. Olena Dotsenko, MD   dr-olena-dotsenko-xktfl  45.0  Female   \n",
       "206    Dr. Joshua Socolow, MD   dr-joshua-socolow-3crqx  47.0     NaN   \n",
       "1321  Dr. Mohammad Sandhu, MD  dr-mohammed-sandhu-y5bld  73.0    Male   \n",
       "\n",
       "      num_reviews  rating  doc_score  staff_score  \\\n",
       "1416            2     3.0        3.0     2.833333   \n",
       "602             0     NaN        NaN          NaN   \n",
       "883             0     NaN        NaN          NaN   \n",
       "206             1     5.0        5.0     5.000000   \n",
       "1321            4     4.0        5.0     4.166667   \n",
       "\n",
       "                        practice_name  \\\n",
       "1416       Harlem Hospital Center CAR   \n",
       "602    WYCKOFF HEIGHTS MEDICAL CENTER   \n",
       "883                               NaN   \n",
       "206   NYP Brooklyn Methodist Hospital   \n",
       "1321  Newark Beth Israel Med Ctr Card   \n",
       "\n",
       "                                            hosp_fellow  \\\n",
       "1416  New York Presbyterian Hospital/Weill Cornell M...   \n",
       "602                                                 NaN   \n",
       "883                                                 NaN   \n",
       "206                 Emory University School Of Medicine   \n",
       "1321                                                NaN   \n",
       "\n",
       "                                                hosp_md  \\\n",
       "1416                                               SUNY   \n",
       "602   Bangalore Medical College, Rajiv Gandhi Univer...   \n",
       "883                                                 NaN   \n",
       "206   Washington University In St Louis School Of Me...   \n",
       "1321                                                NaN   \n",
       "\n",
       "                                  hosp_res  \\\n",
       "1416           Albert Einstein College Med   \n",
       "602                                    NaN   \n",
       "883                                    NaN   \n",
       "206   University Of Chicago Medical Center   \n",
       "1321                Jersey City Med Center   \n",
       "\n",
       "                                          practice_addr      city state  \\\n",
       "1416  506 Malcolm X Blvd Ste MLK15101, New York, NY,...  New York    NY   \n",
       "602               374 Stockholm St, Brooklyn, NY, 11237  Brooklyn    NY   \n",
       "883              361 91st St Apt 2, Brooklyn, NY, 11209  Brooklyn    NY   \n",
       "206                     506 6th St, Brooklyn, NY, 11215  Brooklyn    NY   \n",
       "1321                   672 Broadway, Bayonne, NJ, 07002   Bayonne    NJ   \n",
       "\n",
       "     zipcode  \n",
       "1416   10037  \n",
       "602    11237  \n",
       "883    11209  \n",
       "206    11215  \n",
       "1321   07002  "
      ]
     },
     "execution_count": 5,
     "metadata": {},
     "output_type": "execute_result"
    }
   ],
   "source": [
    "# change zipcode to 5 digit string    \n",
    "if data['zipcode'].dtype == 'int64':\n",
    "    data['zipcode'] = data['zipcode'].apply(lambda x: '{0:05d}'.format(x))\n",
    "\n",
    "# fix some empty values in gender\n",
    "data.loc[ data['gender'].isin(['Male','Female']) == False, ['gender'] ] = np.nan\n",
    "\n",
    "# convert detailed doc_rating and staff_rating from string to float\n",
    "def split_score(data_series):\n",
    "    y = []\n",
    "    for x in data_series:\n",
    "        if pd.isna(x) == False:\n",
    "            y.append(np.mean([float(xi) for xi in x.split('|')]))\n",
    "        else:\n",
    "            y.append(x)\n",
    "    return y\n",
    "\n",
    "data['doc_score'] = split_score(data['doc_rating'])\n",
    "\n",
    "# print(data['doc_rating'].head(5))\n",
    "# print(data['doc_score'].head(5))\n",
    "\n",
    "data['staff_score'] = split_score(data['staff_rating'])\n",
    "\n",
    "# print(data['staff_rating'].head(5))\n",
    "# print(data['staff_score'].head(5))\n",
    "# print(data['staff_rating'].tail(5))\n",
    "# print(data['staff_score'].tail(5))\n",
    "\n",
    "# drop the two string columns and other columns not used\n",
    "data = data.drop(columns=['doc_rating', 'staff_rating'])\n",
    "\n",
    "# re-order\n",
    "cols_1 = ['name', 'hcp_id', 'age', 'gender', 'num_reviews', 'rating','doc_score', 'staff_score', \\\n",
    "            'practice_name', 'hosp_fellow', 'hosp_md', 'hosp_res', \n",
    "            'practice_addr','city', 'state', 'zipcode']\n",
    "data=data[cols_1]\n",
    "\n",
    "data.sample(5)"
   ]
  },
  {
   "cell_type": "code",
   "execution_count": 6,
   "metadata": {},
   "outputs": [
    {
     "name": "stdout",
     "output_type": "stream",
     "text": [
      "              pct_mv\n",
      "name              0%\n",
      "hcp_id            0%\n",
      "age              19%\n",
      "gender            9%\n",
      "num_reviews       0%\n",
      "rating           37%\n",
      "doc_score        37%\n",
      "staff_score      38%\n",
      "practice_name    13%\n",
      "hosp_fellow      40%\n",
      "hosp_md          23%\n",
      "hosp_res         32%\n",
      "practice_addr     0%\n",
      "city              0%\n",
      "state             0%\n",
      "zipcode           0%\n"
     ]
    }
   ],
   "source": [
    "# count % of missing values by column\n",
    "mv_cols = pd.DataFrame(data = np.sum(data.isnull(), axis = 0) / data.shape[0], columns = ['pct_mv'] )\n",
    "print(mv_cols.to_string(formatters = {'pct_mv': '{:.0%}'.format}))"
   ]
  },
  {
   "cell_type": "code",
   "execution_count": 7,
   "metadata": {},
   "outputs": [
    {
     "name": "stdout",
     "output_type": "stream",
     "text": [
      "True     998\n",
      "False    574\n",
      "Name: has_review, dtype: int64\n"
     ]
    }
   ],
   "source": [
    "# create indicator for whether the doctor has been reviewed or not\n",
    "data['has_review'] = True\n",
    "data.loc[ data['num_reviews'] == 0, 'has_review'] = False\n",
    "print(data['has_review'].value_counts())"
   ]
  },
  {
   "cell_type": "code",
   "execution_count": 8,
   "metadata": {
    "scrolled": true
   },
   "outputs": [
    {
     "data": {
      "text/plain": [
       "count    1572.000000\n",
       "mean        4.839059\n",
       "std        13.090885\n",
       "min         0.000000\n",
       "25%         0.000000\n",
       "50%         2.000000\n",
       "75%         6.000000\n",
       "max       421.000000\n",
       "Name: num_reviews, dtype: float64"
      ]
     },
     "execution_count": 8,
     "metadata": {},
     "output_type": "execute_result"
    }
   ],
   "source": [
    "# summary stats of key numeric variables\n",
    "# data.loc[:,['age','num_reviews','rating','doc_score','staff_score']].describe()\n",
    "data['num_reviews'].describe()"
   ]
  },
  {
   "cell_type": "code",
   "execution_count": 9,
   "metadata": {},
   "outputs": [
    {
     "data": {
      "text/plain": [
       "Text(0.5,1,'Distribution of Overall Rating')"
      ]
     },
     "execution_count": 9,
     "metadata": {},
     "output_type": "execute_result"
    },
    {
     "data": {
      "image/png": "[encoded data removed]",
      "text/plain": [
       "<Figure size 432x288 with 1 Axes>"
      ]
     },
     "metadata": {
      "needs_background": "light"
     },
     "output_type": "display_data"
    }
   ],
   "source": [
    "# use\n",
    "# overall distribution of score among doctors with at least 1 review\n",
    "colors = [\"cranberry\",\"faded red\", \"salmon pink\", \"tangerine\", \"maize\", \"tiffany blue\", \\\n",
    "          \"aqua green\",\"algae green\",\"emerald\"]\n",
    "\n",
    "ax = sns.countplot( x = 'rating', data = data, palette = sns.xkcd_palette(colors) )\n",
    "plt.xticks(fontsize = 14)\n",
    "plt.xlabel('Average Number of Stars \\n (likelihood to recommend the doctor)', fontsize = 14)\n",
    "plt.ylabel('Number of doctors', fontsize = 14)\n",
    "plt.title('Distribution of Overall Rating', fontsize = 14)"
   ]
  },
  {
   "cell_type": "code",
   "execution_count": 10,
   "metadata": {},
   "outputs": [
    {
     "data": {
      "text/plain": [
       "Text(0.5,1,'Histogram of Number of Reviews \\n for Gastroenterologists in New York Metro Area')"
      ]
     },
     "execution_count": 10,
     "metadata": {},
     "output_type": "execute_result"
    },
    {
     "data": {
      "image/png": "[encoded data removed]",
      "text/plain": [
       "<Figure size 864x432 with 1 Axes>"
      ]
     },
     "metadata": {
      "needs_background": "light"
     },
     "output_type": "display_data"
    }
   ],
   "source": [
    "# use\n",
    "# overall distribution of the number of reviews among doctors with at least one review (998)\n",
    "# subdata: physicians with >= 1 reviews\n",
    "subdata = data[ data['has_review'] == True ]\n",
    "bstep = 5\n",
    "bmax = int(round(subdata.num_reviews.max()/bstep)*bstep)\n",
    "plt.figure(figsize=(12,6))\n",
    "hout = plt.hist(subdata.num_reviews.dropna(), bins = range(0,bmax,bstep), color = \"blue\", alpha = 0.5, rwidth = 0.8)\n",
    "plt.xticks(np.arange(-bstep*2,bmax+2*bstep,bstep), fontsize = 14)\n",
    "plt.yticks(fontsize = 14)    \n",
    "plt.xlim([-1,90])\n",
    "plt.xlabel('Number of reviews received by each physician', fontsize = 14)\n",
    "plt.ylabel('Frequency (Number of Doctors)',fontsize = 14)\n",
    "plt.title('Histogram of Number of Reviews \\n for Cardiologists in New York Metro Area', fontsize = 16)"
   ]
  },
  {
   "cell_type": "code",
   "execution_count": 11,
   "metadata": {},
   "outputs": [
    {
     "name": "stdout",
     "output_type": "stream",
     "text": [
      "[(5, 0.46439317953861586), (10, 0.7612838515546639), (15, 0.8966900702106319), (20, 0.9518555667001003), (25, 0.9699097291875627), (30, 0.9779338014042126), (35, 0.9879638916750251), (40, 0.9909729187562688), (45, 0.9919759277833501), (50, 0.9929789368104313), (55, 0.9939819458375125), (60, 0.9939819458375125), (65, 0.9939819458375125), (70, 0.995987963891675), (75, 0.995987963891675), (80, 0.9969909729187563), (85, 0.9979939819458375), (90, 0.9979939819458375), (95, 0.9979939819458375), (100, 0.9989969909729187), (105, 0.9989969909729187), (110, 1.0), (115, 1.0), (120, 1.0), (125, 1.0), (130, 1.0), (135, 1.0), (140, 1.0), (145, 1.0), (150, 1.0), (155, 1.0), (160, 1.0), (165, 1.0), (170, 1.0), (175, 1.0), (180, 1.0), (185, 1.0), (190, 1.0), (195, 1.0), (200, 1.0), (205, 1.0), (210, 1.0), (215, 1.0), (220, 1.0), (225, 1.0), (230, 1.0), (235, 1.0), (240, 1.0), (245, 1.0), (250, 1.0), (255, 1.0), (260, 1.0), (265, 1.0), (270, 1.0), (275, 1.0), (280, 1.0), (285, 1.0), (290, 1.0), (295, 1.0), (300, 1.0), (305, 1.0), (310, 1.0), (315, 1.0), (320, 1.0), (325, 1.0), (330, 1.0), (335, 1.0), (340, 1.0), (345, 1.0), (350, 1.0), (355, 1.0), (360, 1.0), (365, 1.0), (370, 1.0), (375, 1.0), (380, 1.0), (385, 1.0), (390, 1.0), (395, 1.0), (400, 1.0), (405, 1.0), (410, 1.0), (415, 1.0)]\n"
     ]
    }
   ],
   "source": [
    "#plt.figure()\n",
    "#plt.plot(x = hout[1][1:], y = np.cumsum(hout[0])/np.sum(hout[0]) ) \n",
    "print(list(zip(hout[1][1:],np.cumsum(hout[0])/np.sum(hout[0]))))\n",
    "# 20% doctors have >= 15 reviews \n",
    "# 39% doctors have >= 10 reviews\n",
    "# 64% doctors have >= 5 reviews"
   ]
  },
  {
   "cell_type": "markdown",
   "metadata": {},
   "source": [
    "Although the healthgrades physician database appears to be quite comprehensive, the patient reviews are collected via a survey on the physician's page on healthgrades.com. Around 22% of physicians have not been reviewed. In the histogram above, we only consider physicians with at least 1 review (total 681 gastroenterologists). \n",
    "\n",
    "It's clear that the number of reviews per physician follows an exponential distribution, with 36% receiving less than 5 reviews, 25% receiving 5 to 9 reviews, and 39% receiving 10 reviews or more. Only 4.3% of doctors receive 30 reviews or more, and < 2% of doctors receive 50 reviews or more. Next we take a look at the relationship between the number of reviews and overall star rating. "
   ]
  },
  {
   "cell_type": "code",
   "execution_count": 12,
   "metadata": {},
   "outputs": [
    {
     "name": "stderr",
     "output_type": "stream",
     "text": [
      "C:\\Users\\yanqi\\Anaconda3\\lib\\site-packages\\ipykernel_launcher.py:6: SettingWithCopyWarning: \n",
      "A value is trying to be set on a copy of a slice from a DataFrame.\n",
      "Try using .loc[row_indexer,col_indexer] = value instead\n",
      "\n",
      "See the caveats in the documentation: http://pandas.pydata.org/pandas-docs/stable/indexing.html#indexing-view-versus-copy\n",
      "  \n"
     ]
    }
   ],
   "source": [
    "# Create categorical variable (L/M/H) based on num_reviews\n",
    "# cut_bins = pd.IntervalIndex.from_tuples([(0, 5), (5, 10), (10, 200)])\n",
    "# n_rev_c = pd.DataFrame(pd.cut(subdata['num_reviews'], bins = [0,5,10,200], right = False,  \\\n",
    "#                              labels = ['L', 'M', 'H'] ))\n",
    "\n",
    "subdata['n_rev_c'] = pd.cut(subdata['num_reviews'], bins = [0,5,10,200], right = False,  \\\n",
    "                             labels = ['L', 'M', 'H'] )\n",
    "# subdata.loc[:,['num_reviews','n_rev_c']].head(10)\n",
    "# subdata['n_rev_c'].dtype"
   ]
  },
  {
   "cell_type": "code",
   "execution_count": 14,
   "metadata": {},
   "outputs": [
    {
     "data": {
      "text/plain": [
       "(0, 50)"
      ]
     },
     "execution_count": 14,
     "metadata": {},
     "output_type": "execute_result"
    },
    {
     "data": {
      "image/png": "[encoded data removed]",
      "text/plain": [
       "<Figure size 864x432 with 1 Axes>"
      ]
     },
     "metadata": {},
     "output_type": "display_data"
    }
   ],
   "source": [
    "# use\n",
    "# Number of reviews vs. overall rating\n",
    "plt.figure(figsize = (12,6))\n",
    "sns.set_style(\"whitegrid\")\n",
    "colors = [\"cranberry\",\"faded red\", \"salmon pink\", \"tangerine\", \"maize\", \"tiffany blue\", \\\n",
    "          \"aqua green\",\"algae green\",\"emerald\"]\n",
    "sns.stripplot(x=\"rating\", y=\"num_reviews\", data=subdata, size = 4, alpha = 0.7, jitter = True, \\\n",
    "              palette = sns.xkcd_palette(colors));\n",
    "plt.xlabel('Overall Rating')\n",
    "plt.ylabel('Number of Reviews')\n",
    "plt.ylim(0,50)"
   ]
  },
  {
   "cell_type": "code",
   "execution_count": 15,
   "metadata": {},
   "outputs": [
    {
     "data": {
      "text/plain": [
       "Text(0,0.5,'Number of doctors')"
      ]
     },
     "execution_count": 15,
     "metadata": {},
     "output_type": "execute_result"
    },
    {
     "data": {
      "image/png": "[encoded data removed]",
      "text/plain": [
       "<Figure size 432x288 with 1 Axes>"
      ]
     },
     "metadata": {},
     "output_type": "display_data"
    }
   ],
   "source": [
    "# use\n",
    "# overall distribution of score among doctors with at least 5 reviews \n",
    "subdata5 = data.loc[ data['num_reviews'] >= 5 ]\n",
    "\n",
    "colors = [ \"faded red\", \"salmon pink\", \"tangerine\", \"maize\", \"tiffany blue\", \\\n",
    "          \"aqua green\",\"algae green\",\"emerald\"]\n",
    "\n",
    "ax = sns.countplot( x = 'rating', data = subdata5, palette = sns.xkcd_palette(colors) )\n",
    "plt.xticks(fontsize = 14)\n",
    "plt.xlabel('Overall Rating \\n (likelihood to recommend the doctor)', fontsize = 14)\n",
    "plt.ylabel('Number of doctors', fontsize = 14)"
   ]
  },
  {
   "cell_type": "code",
   "execution_count": 16,
   "metadata": {},
   "outputs": [
    {
     "data": {
      "text/plain": [
       "4.5    167\n",
       "5.0    162\n",
       "4.0    108\n",
       "3.5     60\n",
       "3.0     25\n",
       "2.0      6\n",
       "2.5      5\n",
       "1.5      2\n",
       "Name: rating, dtype: int64"
      ]
     },
     "execution_count": 16,
     "metadata": {},
     "output_type": "execute_result"
    }
   ],
   "source": [
    "subdata5['rating'].value_counts() #/subdata5['rating'].count()"
   ]
  },
  {
   "cell_type": "code",
   "execution_count": 17,
   "metadata": {},
   "outputs": [
    {
     "data": {
      "text/plain": [
       "(array([1.5, 2. , 2.5, 3. , 3.5, 4. , 4.5, 5. ]),\n",
       " array([  2,   6,   5,  25,  60, 108, 167, 162], dtype=int64))"
      ]
     },
     "execution_count": 17,
     "metadata": {},
     "output_type": "execute_result"
    }
   ],
   "source": [
    "# order is more correct than value_counts function\n",
    "# stats.itemfreq(subdata5['rating'])\n",
    "np.unique(subdata5['rating'], return_counts=True) "
   ]
  },
  {
   "cell_type": "code",
   "execution_count": 18,
   "metadata": {},
   "outputs": [
    {
     "data": {
      "text/plain": [
       "count    535.000000\n",
       "mean       4.310280\n",
       "std        0.670392\n",
       "min        1.500000\n",
       "25%        4.000000\n",
       "50%        4.500000\n",
       "75%        5.000000\n",
       "max        5.000000\n",
       "Name: rating, dtype: float64"
      ]
     },
     "execution_count": 18,
     "metadata": {},
     "output_type": "execute_result"
    }
   ],
   "source": [
    "subdata5['rating'].describe()"
   ]
  },
  {
   "cell_type": "markdown",
   "metadata": {},
   "source": [
    "The scatterplot of star rating vs. number of reviews shows doctors with the poorest ratings are less likely to get a large number reviews. Contrary to intuition, few patients who are willing to submit a review are motivated by a very negative experience with the doctor. Patients seem to be generally happy with the gastroenterologists in NY metro area. \n",
    "\n",
    "Indeed, when we focus on only the physicians with at least 5 reviews (subdata5, total 433 doctors), the distribution of the overall rating changes quite a bit. Notably the drop in the number of doctors getting 5 star ratings. This should be a more robust distribution with a minimally acceptable sample size on which each average star rating is based. The average rating is close to 4 and more than 70 doctors receive perfect 5 stars. \n",
    "\n",
    "These charts helps guide consumers in their interpretation of the ratings on healthgrades.com. One would perhaps be best to avoid the GI doctors with < 3 star rating based on 5 or more reviews. Similarly, to find top positively rated doctors, 5 star rating based on 5 or more reviews, 4.5 stars based on more than 10 reviews, or even more stringent criteria may be used. "
   ]
  },
  {
   "cell_type": "code",
   "execution_count": 19,
   "metadata": {},
   "outputs": [
    {
     "data": {
      "text/html": [
       "<div>\n",
       "<style scoped>\n",
       "    .dataframe tbody tr th:only-of-type {\n",
       "        vertical-align: middle;\n",
       "    }\n",
       "\n",
       "    .dataframe tbody tr th {\n",
       "        vertical-align: top;\n",
       "    }\n",
       "\n",
       "    .dataframe thead th {\n",
       "        text-align: right;\n",
       "    }\n",
       "</style>\n",
       "<table border=\"1\" class=\"dataframe\">\n",
       "  <thead>\n",
       "    <tr style=\"text-align: right;\">\n",
       "      <th></th>\n",
       "      <th>name</th>\n",
       "      <th>age</th>\n",
       "      <th>gender</th>\n",
       "      <th>num_reviews</th>\n",
       "      <th>rating</th>\n",
       "      <th>practice_name</th>\n",
       "      <th>practice_addr</th>\n",
       "      <th>hosp_fellow</th>\n",
       "      <th>hosp_md</th>\n",
       "    </tr>\n",
       "  </thead>\n",
       "  <tbody>\n",
       "    <tr>\n",
       "      <th>63</th>\n",
       "      <td>Dr. Arthur Kennish, MD</td>\n",
       "      <td>68.0</td>\n",
       "      <td>Male</td>\n",
       "      <td>67</td>\n",
       "      <td>4.5</td>\n",
       "      <td>Arthur Kennish MD</td>\n",
       "      <td>108 E 96th St, New York, NY, 10128</td>\n",
       "      <td>Mt Sinai Hospital</td>\n",
       "      <td>Albert Einstein College Of Medicine Of Yeshiva...</td>\n",
       "    </tr>\n",
       "    <tr>\n",
       "      <th>497</th>\n",
       "      <td>Dr. Adam Goldman, MD</td>\n",
       "      <td>52.0</td>\n",
       "      <td>Male</td>\n",
       "      <td>67</td>\n",
       "      <td>5.0</td>\n",
       "      <td>Metropolitan Vein and Aesthetic Center</td>\n",
       "      <td>3773 103rd St, Corona, NY, 11368</td>\n",
       "      <td>Cardiovascular Diseases  - Albert Einstein/Jac...</td>\n",
       "      <td>Albert Einstein College of Medicine in New Yor...</td>\n",
       "    </tr>\n",
       "    <tr>\n",
       "      <th>572</th>\n",
       "      <td>Dr. Arthur Weisenseel Jr, MD</td>\n",
       "      <td>81.0</td>\n",
       "      <td>Male</td>\n",
       "      <td>78</td>\n",
       "      <td>5.0</td>\n",
       "      <td>Weisenseel &amp; Unger MDs</td>\n",
       "      <td>12 E 86th St Ofc 4, New York, NY, 10028</td>\n",
       "      <td>Mt Sinai Med Center</td>\n",
       "      <td>GEORGETOWN UNIV SCH OF MED</td>\n",
       "    </tr>\n",
       "    <tr>\n",
       "      <th>589</th>\n",
       "      <td>Dr. Rick Pumill, MD</td>\n",
       "      <td>59.0</td>\n",
       "      <td>Male</td>\n",
       "      <td>82</td>\n",
       "      <td>5.0</td>\n",
       "      <td>Cross County Cardiology</td>\n",
       "      <td>38 Meadowlands Pkwy, Secaucus, NJ, 07094</td>\n",
       "      <td>Seton Hall University</td>\n",
       "      <td>Ross University</td>\n",
       "    </tr>\n",
       "    <tr>\n",
       "      <th>592</th>\n",
       "      <td>Dr. Irfan Admani, MD</td>\n",
       "      <td>46.0</td>\n",
       "      <td>Male</td>\n",
       "      <td>107</td>\n",
       "      <td>5.0</td>\n",
       "      <td>Cross County Cardiology</td>\n",
       "      <td>38 Meadowlands Pkwy, Secaucus, NJ, 07094</td>\n",
       "      <td>Saint Michael's Medical Center</td>\n",
       "      <td>St. George's University</td>\n",
       "    </tr>\n",
       "    <tr>\n",
       "      <th>1225</th>\n",
       "      <td>Dr. Haroon Faraz, MD</td>\n",
       "      <td>41.0</td>\n",
       "      <td>Male</td>\n",
       "      <td>99</td>\n",
       "      <td>5.0</td>\n",
       "      <td>CarePoint Medical Group</td>\n",
       "      <td>330 Grand St # 100, Hoboken, NJ, 07030</td>\n",
       "      <td>Wayne State University School of Medicine</td>\n",
       "      <td>Dow Medical College Karachi University</td>\n",
       "    </tr>\n",
       "    <tr>\n",
       "      <th>1230</th>\n",
       "      <td>Dr. Jeffrey Fisher, MD</td>\n",
       "      <td>68.0</td>\n",
       "      <td>Male</td>\n",
       "      <td>421</td>\n",
       "      <td>5.0</td>\n",
       "      <td>Cardiology Consultants Of New York, P.C.</td>\n",
       "      <td>311 E 72nd St Apt 1C, New York, NY, 10021</td>\n",
       "      <td>Johns Hopkins Hospital</td>\n",
       "      <td>Albert Einstein College Of Medicine Of Yeshiva...</td>\n",
       "    </tr>\n",
       "    <tr>\n",
       "      <th>1486</th>\n",
       "      <td>Dr. Luiza Petre, MD</td>\n",
       "      <td>NaN</td>\n",
       "      <td>Female</td>\n",
       "      <td>51</td>\n",
       "      <td>5.0</td>\n",
       "      <td>Medi Weightloss</td>\n",
       "      <td>115 E 57th St Ste 1450, New York, NY, 10022</td>\n",
       "      <td>Beth Israel Med Ctr-Mt Sinai Sch Med</td>\n",
       "      <td>Universitatea De Medicina Si Farmacie Carol Da...</td>\n",
       "    </tr>\n",
       "  </tbody>\n",
       "</table>\n",
       "</div>"
      ],
      "text/plain": [
       "                              name   age  gender  num_reviews  rating  \\\n",
       "63          Dr. Arthur Kennish, MD  68.0    Male           67     4.5   \n",
       "497           Dr. Adam Goldman, MD  52.0    Male           67     5.0   \n",
       "572   Dr. Arthur Weisenseel Jr, MD  81.0    Male           78     5.0   \n",
       "589            Dr. Rick Pumill, MD  59.0    Male           82     5.0   \n",
       "592           Dr. Irfan Admani, MD  46.0    Male          107     5.0   \n",
       "1225          Dr. Haroon Faraz, MD  41.0    Male           99     5.0   \n",
       "1230        Dr. Jeffrey Fisher, MD  68.0    Male          421     5.0   \n",
       "1486           Dr. Luiza Petre, MD   NaN  Female           51     5.0   \n",
       "\n",
       "                                 practice_name  \\\n",
       "63                           Arthur Kennish MD   \n",
       "497     Metropolitan Vein and Aesthetic Center   \n",
       "572                     Weisenseel & Unger MDs   \n",
       "589                    Cross County Cardiology   \n",
       "592                    Cross County Cardiology   \n",
       "1225                   CarePoint Medical Group   \n",
       "1230  Cardiology Consultants Of New York, P.C.   \n",
       "1486                           Medi Weightloss   \n",
       "\n",
       "                                    practice_addr  \\\n",
       "63             108 E 96th St, New York, NY, 10128   \n",
       "497              3773 103rd St, Corona, NY, 11368   \n",
       "572       12 E 86th St Ofc 4, New York, NY, 10028   \n",
       "589      38 Meadowlands Pkwy, Secaucus, NJ, 07094   \n",
       "592      38 Meadowlands Pkwy, Secaucus, NJ, 07094   \n",
       "1225       330 Grand St # 100, Hoboken, NJ, 07030   \n",
       "1230    311 E 72nd St Apt 1C, New York, NY, 10021   \n",
       "1486  115 E 57th St Ste 1450, New York, NY, 10022   \n",
       "\n",
       "                                            hosp_fellow  \\\n",
       "63                                    Mt Sinai Hospital   \n",
       "497   Cardiovascular Diseases  - Albert Einstein/Jac...   \n",
       "572                                 Mt Sinai Med Center   \n",
       "589                               Seton Hall University   \n",
       "592                      Saint Michael's Medical Center   \n",
       "1225          Wayne State University School of Medicine   \n",
       "1230                             Johns Hopkins Hospital   \n",
       "1486               Beth Israel Med Ctr-Mt Sinai Sch Med   \n",
       "\n",
       "                                                hosp_md  \n",
       "63    Albert Einstein College Of Medicine Of Yeshiva...  \n",
       "497   Albert Einstein College of Medicine in New Yor...  \n",
       "572                          GEORGETOWN UNIV SCH OF MED  \n",
       "589                                     Ross University  \n",
       "592                             St. George's University  \n",
       "1225             Dow Medical College Karachi University  \n",
       "1230  Albert Einstein College Of Medicine Of Yeshiva...  \n",
       "1486  Universitatea De Medicina Si Farmacie Carol Da...  "
      ]
     },
     "execution_count": 19,
     "metadata": {},
     "output_type": "execute_result"
    }
   ],
   "source": [
    "# who are the doctors with extremely large # of reviews\n",
    "n_high = 50\n",
    "subdata.loc[ subdata['num_reviews'] >= n_high, ['name','age','gender','num_reviews', \\\n",
    "                                            'rating','practice_name','practice_addr','hosp_fellow', 'hosp_md'] ]"
   ]
  },
  {
   "cell_type": "markdown",
   "metadata": {},
   "source": [
    "What other factors influence the doctor's star rating? One would reasonably expect more experienced doctors who has been practicing for longer will be reviewed more favorably. Using age as a proxy for years of experience, we look at how this factor relates to the star rating. "
   ]
  },
  {
   "cell_type": "code",
   "execution_count": 20,
   "metadata": {},
   "outputs": [
    {
     "data": {
      "text/plain": [
       "1277"
      ]
     },
     "execution_count": 20,
     "metadata": {},
     "output_type": "execute_result"
    },
    {
     "data": {
      "image/png": "[encoded data removed]",
      "text/plain": [
       "<Figure size 432x288 with 1 Axes>"
      ]
     },
     "metadata": {},
     "output_type": "display_data"
    }
   ],
   "source": [
    "# use\n",
    "# age distribution: 22% missing\n",
    "sns.set_style('darkgrid')\n",
    "plt.hist(data.age.dropna(), rwidth = 0.8, bins = range(20,110,10))\n",
    "plt.xticks(range(20,110,10), fontsize = 14)\n",
    "plt.yticks(fontsize = 14)\n",
    "plt.xlabel('Doctor Age')\n",
    "plt.ylabel('Count')\n",
    "# Majority of the gastroenterologists in NY metro area are between 50 and 70 years old\n",
    "len(data.age.dropna())"
   ]
  },
  {
   "cell_type": "code",
   "execution_count": 22,
   "metadata": {},
   "outputs": [
    {
     "data": {
      "text/html": [
       "<div>\n",
       "<style scoped>\n",
       "    .dataframe tbody tr th:only-of-type {\n",
       "        vertical-align: middle;\n",
       "    }\n",
       "\n",
       "    .dataframe tbody tr th {\n",
       "        vertical-align: top;\n",
       "    }\n",
       "\n",
       "    .dataframe thead th {\n",
       "        text-align: right;\n",
       "    }\n",
       "</style>\n",
       "<table border=\"1\" class=\"dataframe\">\n",
       "  <thead>\n",
       "    <tr style=\"text-align: right;\">\n",
       "      <th></th>\n",
       "      <th>age</th>\n",
       "      <th>age_grp</th>\n",
       "    </tr>\n",
       "  </thead>\n",
       "  <tbody>\n",
       "    <tr>\n",
       "      <th>439</th>\n",
       "      <td>59.0</td>\n",
       "      <td>[50, 60)</td>\n",
       "    </tr>\n",
       "    <tr>\n",
       "      <th>956</th>\n",
       "      <td>34.0</td>\n",
       "      <td>[30, 40)</td>\n",
       "    </tr>\n",
       "    <tr>\n",
       "      <th>764</th>\n",
       "      <td>65.0</td>\n",
       "      <td>[60, 70)</td>\n",
       "    </tr>\n",
       "    <tr>\n",
       "      <th>305</th>\n",
       "      <td>53.0</td>\n",
       "      <td>[50, 60)</td>\n",
       "    </tr>\n",
       "    <tr>\n",
       "      <th>1086</th>\n",
       "      <td>36.0</td>\n",
       "      <td>[30, 40)</td>\n",
       "    </tr>\n",
       "  </tbody>\n",
       "</table>\n",
       "</div>"
      ],
      "text/plain": [
       "       age   age_grp\n",
       "439   59.0  [50, 60)\n",
       "956   34.0  [30, 40)\n",
       "764   65.0  [60, 70)\n",
       "305   53.0  [50, 60)\n",
       "1086  36.0  [30, 40)"
      ]
     },
     "execution_count": 22,
     "metadata": {},
     "output_type": "execute_result"
    }
   ],
   "source": [
    "# create age groups\n",
    "edge_low = int(np.floor(min(data['age'].dropna())/10)*10)\n",
    "edge_high = int(np.ceil(max(data['age'].dropna())/10)*10)\n",
    "data['age_grp'] = pd.cut(data['age'], bins = np.arange(edge_low,edge_high+10,10), right = False)\n",
    "data.loc[:,['age','age_grp']].sample(5)"
   ]
  },
  {
   "cell_type": "code",
   "execution_count": 23,
   "metadata": {},
   "outputs": [
    {
     "data": {
      "text/plain": [
       "[50, 60)     314\n",
       "[60, 70)     302\n",
       "[40, 50)     285\n",
       "[70, 80)     200\n",
       "[30, 40)      83\n",
       "[80, 90)      75\n",
       "[90, 100)     16\n",
       "[20, 30)       1\n",
       "[10, 20)       1\n",
       "Name: age_grp, dtype: int64"
      ]
     },
     "execution_count": 23,
     "metadata": {},
     "output_type": "execute_result"
    }
   ],
   "source": [
    "data['age_grp'].value_counts() #/data['age_grp'].value_counts().sum()"
   ]
  },
  {
   "cell_type": "code",
   "execution_count": 24,
   "metadata": {},
   "outputs": [
    {
     "data": {
      "text/plain": [
       "Text(0,0.5,'Number of Reviews')"
      ]
     },
     "execution_count": 24,
     "metadata": {},
     "output_type": "execute_result"
    },
    {
     "data": {
      "text/plain": [
       "<Figure size 720x432 with 0 Axes>"
      ]
     },
     "metadata": {},
     "output_type": "display_data"
    },
    {
     "data": {
      "image/png": "[encoded data removed]",
      "text/plain": [
       "<Figure size 432x288 with 1 Axes>"
      ]
     },
     "metadata": {},
     "output_type": "display_data"
    }
   ],
   "source": [
    "# use\n",
    "plt.figure(figsize =(10,6))\n",
    "data.plot(kind='scatter',x='age', y='num_reviews', alpha = 0.6)\n",
    "plt.ylim(0,40)\n",
    "plt.xlabel('Doctor Age', fontsize = 14)\n",
    "plt.ylabel('Number of Reviews', fontsize = 14)\n",
    "# doctors between 50 and 70 years old tend to get a larger number of reviews on average, and the younger and older age \n",
    "# groups generally receive fewer reviews. This could be due to the 50-70 year old physicians having a longer practicing \n",
    "# history and cumulative patient count than the younger group, and also being more actively practicing than the older group.\n",
    "# This could also be due to a selection bias from patients for GI doctors in the 50-70 age group."
   ]
  },
  {
   "cell_type": "code",
   "execution_count": 25,
   "metadata": {},
   "outputs": [
    {
     "data": {
      "text/html": [
       "<div>\n",
       "<style scoped>\n",
       "    .dataframe tbody tr th:only-of-type {\n",
       "        vertical-align: middle;\n",
       "    }\n",
       "\n",
       "    .dataframe tbody tr th {\n",
       "        vertical-align: top;\n",
       "    }\n",
       "\n",
       "    .dataframe thead th {\n",
       "        text-align: right;\n",
       "    }\n",
       "</style>\n",
       "<table border=\"1\" class=\"dataframe\">\n",
       "  <thead>\n",
       "    <tr style=\"text-align: right;\">\n",
       "      <th></th>\n",
       "      <th>name</th>\n",
       "      <th>hcp_id</th>\n",
       "      <th>age</th>\n",
       "      <th>gender</th>\n",
       "      <th>num_reviews</th>\n",
       "      <th>rating</th>\n",
       "      <th>doc_score</th>\n",
       "      <th>staff_score</th>\n",
       "      <th>practice_name</th>\n",
       "      <th>hosp_fellow</th>\n",
       "      <th>hosp_md</th>\n",
       "      <th>hosp_res</th>\n",
       "      <th>practice_addr</th>\n",
       "      <th>city</th>\n",
       "      <th>state</th>\n",
       "      <th>zipcode</th>\n",
       "      <th>has_review</th>\n",
       "      <th>age_grp</th>\n",
       "    </tr>\n",
       "  </thead>\n",
       "  <tbody>\n",
       "    <tr>\n",
       "      <th>1</th>\n",
       "      <td>Dr. Sunil Patel, MD</td>\n",
       "      <td>dr-sunil-patel-3djp9</td>\n",
       "      <td>46.0</td>\n",
       "      <td>Male</td>\n",
       "      <td>15</td>\n",
       "      <td>3.0</td>\n",
       "      <td>3.000</td>\n",
       "      <td>3.5</td>\n",
       "      <td>Prime Heart</td>\n",
       "      <td>Umdnj-University Hospital</td>\n",
       "      <td>U Of Bristol</td>\n",
       "      <td>Umdnj-University Hospital</td>\n",
       "      <td>377 Jersey Ave Ste 230, Jersey City, NJ, 07302</td>\n",
       "      <td>Jersey City</td>\n",
       "      <td>NJ</td>\n",
       "      <td>07302</td>\n",
       "      <td>True</td>\n",
       "      <td>[40, 50)</td>\n",
       "    </tr>\n",
       "    <tr>\n",
       "      <th>2</th>\n",
       "      <td>Dr. William Silver, MD</td>\n",
       "      <td>dr-william-silver-xln9f</td>\n",
       "      <td>77.0</td>\n",
       "      <td>Male</td>\n",
       "      <td>5</td>\n",
       "      <td>4.5</td>\n",
       "      <td>4.875</td>\n",
       "      <td>4.0</td>\n",
       "      <td>William A Silver MD</td>\n",
       "      <td>Beth Israel Medical Center</td>\n",
       "      <td>Hadassah Medical School, The Hebrew University...</td>\n",
       "      <td>Beth Israel Med Center</td>\n",
       "      <td>60 Gramercy Park North, Brooklyn, NY, 11249</td>\n",
       "      <td>Brooklyn</td>\n",
       "      <td>NY</td>\n",
       "      <td>11249</td>\n",
       "      <td>True</td>\n",
       "      <td>[70, 80)</td>\n",
       "    </tr>\n",
       "  </tbody>\n",
       "</table>\n",
       "</div>"
      ],
      "text/plain": [
       "                     name                   hcp_id   age gender  num_reviews  \\\n",
       "1     Dr. Sunil Patel, MD     dr-sunil-patel-3djp9  46.0   Male           15   \n",
       "2  Dr. William Silver, MD  dr-william-silver-xln9f  77.0   Male            5   \n",
       "\n",
       "   rating  doc_score  staff_score        practice_name  \\\n",
       "1     3.0      3.000          3.5          Prime Heart   \n",
       "2     4.5      4.875          4.0  William A Silver MD   \n",
       "\n",
       "                  hosp_fellow  \\\n",
       "1   Umdnj-University Hospital   \n",
       "2  Beth Israel Medical Center   \n",
       "\n",
       "                                             hosp_md  \\\n",
       "1                                       U Of Bristol   \n",
       "2  Hadassah Medical School, The Hebrew University...   \n",
       "\n",
       "                    hosp_res                                   practice_addr  \\\n",
       "1  Umdnj-University Hospital  377 Jersey Ave Ste 230, Jersey City, NJ, 07302   \n",
       "2     Beth Israel Med Center     60 Gramercy Park North, Brooklyn, NY, 11249   \n",
       "\n",
       "          city state zipcode  has_review   age_grp  \n",
       "1  Jersey City    NJ   07302        True  [40, 50)  \n",
       "2     Brooklyn    NY   11249        True  [70, 80)  "
      ]
     },
     "execution_count": 25,
     "metadata": {},
     "output_type": "execute_result"
    }
   ],
   "source": [
    "subdata5 = data.loc[ data['num_reviews'] >= 5 ]\n",
    "subdata5.head(2)"
   ]
  },
  {
   "cell_type": "code",
   "execution_count": 26,
   "metadata": {},
   "outputs": [
    {
     "data": {
      "text/plain": [
       "Text(0,0.5,'Overall Rating')"
      ]
     },
     "execution_count": 26,
     "metadata": {},
     "output_type": "execute_result"
    },
    {
     "data": {
      "image/png": "[encoded data removed]",
      "text/plain": [
       "<Figure size 720x432 with 1 Axes>"
      ]
     },
     "metadata": {},
     "output_type": "display_data"
    }
   ],
   "source": [
    "# use\n",
    "plt.figure(figsize =(10,6))\n",
    "\n",
    "# \n",
    "subdata5 = data.loc[ data['num_reviews'] >= 5 ]\n",
    "sns.boxplot(x=\"age_grp\", y=\"rating\", data=subdata5, palette=\"Set3\")\n",
    "plt.xlabel('Age Group')\n",
    "plt.ylabel('Overall Rating')"
   ]
  },
  {
   "cell_type": "code",
   "execution_count": 27,
   "metadata": {},
   "outputs": [
    {
     "data": {
      "text/plain": [
       "[50, 60)     160\n",
       "[60, 70)     139\n",
       "[40, 50)     119\n",
       "[70, 80)      56\n",
       "[30, 40)      17\n",
       "[80, 90)       9\n",
       "[90, 100)      1\n",
       "[20, 30)       1\n",
       "[10, 20)       0\n",
       "Name: age_grp, dtype: int64"
      ]
     },
     "execution_count": 27,
     "metadata": {},
     "output_type": "execute_result"
    }
   ],
   "source": [
    "subdata5['age_grp'].value_counts()"
   ]
  },
  {
   "cell_type": "code",
   "execution_count": 30,
   "metadata": {},
   "outputs": [
    {
     "name": "stdout",
     "output_type": "stream",
     "text": [
      "F_onewayResult(statistic=array([8.18230442]), pvalue=array([0.00032715]))\n",
      "F_onewayResult(statistic=array([6.81963944]), pvalue=array([0.00125167]))\n"
     ]
    }
   ],
   "source": [
    "# test if the age group [60, 70) has different average rating from the [40,50) and [50,60) groups\n",
    "age_grps = np.sort(subdata5['age_grp'].unique().dropna())\n",
    "\n",
    "age_grp_rating = {}\n",
    "for grp in age_grps:\n",
    "    age_grp_rating[str(grp)] = subdata5.loc[ subdata5['age_grp'] == grp, ['rating'] ]  \n",
    "\n",
    "print(stats.f_oneway( age_grp_rating['[40, 50)'] ,age_grp_rating['[50, 60)'], age_grp_rating['[60, 70)']))\n",
    "print(stats.f_oneway( age_grp_rating['[40, 50)'] ,age_grp_rating['[50, 60)'], age_grp_rating['[70, 80)']))\n",
    "\n",
    "# [60,70)'s satisfaction is lower than the [40,50) and [50,60) groups\n",
    "# [70,80)'s satisfaction is also lower than the [40,50) and [50,60) groups"
   ]
  },
  {
   "cell_type": "code",
   "execution_count": 31,
   "metadata": {},
   "outputs": [
    {
     "data": {
      "text/plain": [
       "535"
      ]
     },
     "execution_count": 31,
     "metadata": {},
     "output_type": "execute_result"
    }
   ],
   "source": [
    "subdata5.shape[0]"
   ]
  },
  {
   "cell_type": "markdown",
   "metadata": {},
   "source": [
    "How does the gender of the doctor impact the rating? Is there any difference between female and male doctors?"
   ]
  },
  {
   "cell_type": "code",
   "execution_count": 32,
   "metadata": {},
   "outputs": [
    {
     "name": "stdout",
     "output_type": "stream",
     "text": [
      "Male      1108\n",
      "Female     323\n",
      "Name: gender, dtype: int64\n"
     ]
    },
    {
     "data": {
      "text/plain": [
       "<Figure size 216x216 with 0 Axes>"
      ]
     },
     "execution_count": 32,
     "metadata": {},
     "output_type": "execute_result"
    },
    {
     "data": {
      "text/plain": [
       "<Figure size 216x216 with 0 Axes>"
      ]
     },
     "metadata": {},
     "output_type": "display_data"
    }
   ],
   "source": [
    "# use\n",
    "# gender distribution (884 doctors with gender info, 7% missing)\n",
    "# total 688 male and 196 female doctors: 78% of NY metro GI docs in the HG database are male \n",
    "# to look up: % F / M GI docs in the US = 17.6% (out of 14,728 total)\n",
    "print(data.gender.value_counts())\n",
    "\n",
    "# counts of each variable split by gender\n",
    "# 75% of male doctors have been reviewed, while only 57% of female doctors have been reviewed\n",
    "data.groupby('gender').count()\n",
    "plt.figure(figsize =(3,3))"
   ]
  },
  {
   "cell_type": "code",
   "execution_count": 33,
   "metadata": {},
   "outputs": [
    {
     "name": "stdout",
     "output_type": "stream",
     "text": [
      "2.7708978328173375\n",
      "5.324007220216607\n"
     ]
    },
    {
     "data": {
      "image/png": "[encoded data removed]",
      "text/plain": [
       "<Figure size 288x360 with 1 Axes>"
      ]
     },
     "metadata": {},
     "output_type": "display_data"
    }
   ],
   "source": [
    "# use\n",
    "# distribution of reviews by gender\n",
    "# sns.boxplot(x='gender', y='num_reviews', data=subdata.loc[ subdata['num_reviews'] <= 50 ])\n",
    "plt.figure(figsize = (4,5))\n",
    "sns.boxplot( x ='gender', y ='num_reviews', data=data, palette = 'Set3')\n",
    "plt.ylim(-5, 50)\n",
    "plt.ylabel('Number of reviews')\n",
    "stats.ttest_ind(data.loc[ data['gender'] == 'Female', 'num_reviews'], \\\n",
    "                data.loc[ data['gender'] == 'Male', 'num_reviews'])\n",
    "# Female GI doctors receive seem to have lower visibility among patients and receive fewer reviews\n",
    "# The doctors who receive extremely large number of reviews are almost all male doctors\n",
    "print(data.loc[ data['gender'] == 'Female', 'num_reviews'].mean())\n",
    "print(data.loc[ data['gender'] == 'Male', 'num_reviews'].mean())"
   ]
  },
  {
   "cell_type": "code",
   "execution_count": 34,
   "metadata": {},
   "outputs": [
    {
     "data": {
      "text/plain": [
       "69"
      ]
     },
     "execution_count": 34,
     "metadata": {},
     "output_type": "execute_result"
    },
    {
     "data": {
      "image/png": "[encoded data removed]",
      "text/plain": [
       "<Figure size 288x360 with 1 Axes>"
      ]
     },
     "metadata": {},
     "output_type": "display_data"
    }
   ],
   "source": [
    "# use\n",
    "# distribution of overall rating by gender\n",
    "plt.figure(figsize = (4,5))\n",
    "sns.boxplot( x ='gender', y ='rating', data=subdata5, palette = 'Set3')\n",
    "np.sum(subdata5.loc[:,['gender','rating']].isnull().any(axis = 1))\n",
    "# no difference in rating distribution for female & male doctors with 5 or more reviews\n"
   ]
  },
  {
   "cell_type": "code",
   "execution_count": 30,
   "metadata": {},
   "outputs": [],
   "source": [
    "# plt.figure(figsize = (12,4))\n",
    "# plt.subplot(121)\n",
    "# sns.boxplot( y ='gender', x ='num_reviews', data=data, palette = 'Set3')\n",
    "# plt.xlim(-5, 50)\n",
    "# plt.xlabel('Number of reviews')\n",
    "# plt.subplot(122)\n",
    "# sns.boxplot( y ='gender', x ='rating', data=subdata5, palette = 'Set3')\n",
    "# plt.xlabel('Rating')"
   ]
  },
  {
   "cell_type": "code",
   "execution_count": 35,
   "metadata": {},
   "outputs": [
    {
     "data": {
      "text/html": [
       "<div>\n",
       "<style scoped>\n",
       "    .dataframe tbody tr th:only-of-type {\n",
       "        vertical-align: middle;\n",
       "    }\n",
       "\n",
       "    .dataframe tbody tr th {\n",
       "        vertical-align: top;\n",
       "    }\n",
       "\n",
       "    .dataframe thead th {\n",
       "        text-align: right;\n",
       "    }\n",
       "</style>\n",
       "<table border=\"1\" class=\"dataframe\">\n",
       "  <thead>\n",
       "    <tr style=\"text-align: right;\">\n",
       "      <th></th>\n",
       "      <th>age</th>\n",
       "      <th>num_reviews</th>\n",
       "      <th>doc_score</th>\n",
       "      <th>staff_score</th>\n",
       "      <th>rating</th>\n",
       "    </tr>\n",
       "  </thead>\n",
       "  <tbody>\n",
       "    <tr>\n",
       "      <th>age</th>\n",
       "      <td>1.000000</td>\n",
       "      <td>0.001058</td>\n",
       "      <td>-0.149188</td>\n",
       "      <td>-0.203627</td>\n",
       "      <td>-0.152966</td>\n",
       "    </tr>\n",
       "    <tr>\n",
       "      <th>num_reviews</th>\n",
       "      <td>0.001058</td>\n",
       "      <td>1.000000</td>\n",
       "      <td>0.024865</td>\n",
       "      <td>0.043165</td>\n",
       "      <td>0.024253</td>\n",
       "    </tr>\n",
       "    <tr>\n",
       "      <th>doc_score</th>\n",
       "      <td>-0.149188</td>\n",
       "      <td>0.024865</td>\n",
       "      <td>1.000000</td>\n",
       "      <td>0.845401</td>\n",
       "      <td>0.958422</td>\n",
       "    </tr>\n",
       "    <tr>\n",
       "      <th>staff_score</th>\n",
       "      <td>-0.203627</td>\n",
       "      <td>0.043165</td>\n",
       "      <td>0.845401</td>\n",
       "      <td>1.000000</td>\n",
       "      <td>0.842811</td>\n",
       "    </tr>\n",
       "    <tr>\n",
       "      <th>rating</th>\n",
       "      <td>-0.152966</td>\n",
       "      <td>0.024253</td>\n",
       "      <td>0.958422</td>\n",
       "      <td>0.842811</td>\n",
       "      <td>1.000000</td>\n",
       "    </tr>\n",
       "  </tbody>\n",
       "</table>\n",
       "</div>"
      ],
      "text/plain": [
       "                  age  num_reviews  doc_score  staff_score    rating\n",
       "age          1.000000     0.001058  -0.149188    -0.203627 -0.152966\n",
       "num_reviews  0.001058     1.000000   0.024865     0.043165  0.024253\n",
       "doc_score   -0.149188     0.024865   1.000000     0.845401  0.958422\n",
       "staff_score -0.203627     0.043165   0.845401     1.000000  0.842811\n",
       "rating      -0.152966     0.024253   0.958422     0.842811  1.000000"
      ]
     },
     "execution_count": 35,
     "metadata": {},
     "output_type": "execute_result"
    }
   ],
   "source": [
    "numdata = subdata.loc[:,['age', 'num_reviews', 'doc_score', 'staff_score', 'rating']]\n",
    "numdata.corr(min_periods = 50)"
   ]
  },
  {
   "cell_type": "code",
   "execution_count": 32,
   "metadata": {},
   "outputs": [
    {
     "data": {
      "text/html": [
       "<div>\n",
       "<style scoped>\n",
       "    .dataframe tbody tr th:only-of-type {\n",
       "        vertical-align: middle;\n",
       "    }\n",
       "\n",
       "    .dataframe tbody tr th {\n",
       "        vertical-align: top;\n",
       "    }\n",
       "\n",
       "    .dataframe thead th {\n",
       "        text-align: right;\n",
       "    }\n",
       "</style>\n",
       "<table border=\"1\" class=\"dataframe\">\n",
       "  <thead>\n",
       "    <tr style=\"text-align: right;\">\n",
       "      <th></th>\n",
       "      <th>doc_score</th>\n",
       "      <th>staff_score</th>\n",
       "      <th>rating</th>\n",
       "    </tr>\n",
       "  </thead>\n",
       "  <tbody>\n",
       "    <tr>\n",
       "      <th>doc_score</th>\n",
       "      <td>1.000000</td>\n",
       "      <td>0.841663</td>\n",
       "      <td>0.957498</td>\n",
       "    </tr>\n",
       "    <tr>\n",
       "      <th>staff_score</th>\n",
       "      <td>0.841663</td>\n",
       "      <td>1.000000</td>\n",
       "      <td>0.860684</td>\n",
       "    </tr>\n",
       "    <tr>\n",
       "      <th>rating</th>\n",
       "      <td>0.957498</td>\n",
       "      <td>0.860684</td>\n",
       "      <td>1.000000</td>\n",
       "    </tr>\n",
       "  </tbody>\n",
       "</table>\n",
       "</div>"
      ],
      "text/plain": [
       "             doc_score  staff_score    rating\n",
       "doc_score     1.000000     0.841663  0.957498\n",
       "staff_score   0.841663     1.000000  0.860684\n",
       "rating        0.957498     0.860684  1.000000"
      ]
     },
     "execution_count": 32,
     "metadata": {},
     "output_type": "execute_result"
    }
   ],
   "source": [
    "# use\n",
    "scores = subdata5.loc[:,['doc_score','staff_score', 'rating']]\n",
    "scores.corr(min_periods = 50)"
   ]
  },
  {
   "cell_type": "code",
   "execution_count": 36,
   "metadata": {},
   "outputs": [
    {
     "ename": "NameError",
     "evalue": "name 'scores' is not defined",
     "output_type": "error",
     "traceback": [
      "\u001b[1;31m---------------------------------------------------------------------------\u001b[0m",
      "\u001b[1;31mNameError\u001b[0m                                 Traceback (most recent call last)",
      "\u001b[1;32m<ipython-input-36-461393957555>\u001b[0m in \u001b[0;36m<module>\u001b[1;34m()\u001b[0m\n\u001b[0;32m      1\u001b[0m \u001b[1;32mfrom\u001b[0m \u001b[0mpandas\u001b[0m\u001b[1;33m.\u001b[0m\u001b[0mplotting\u001b[0m \u001b[1;32mimport\u001b[0m \u001b[0mscatter_matrix\u001b[0m\u001b[1;33m\u001b[0m\u001b[0m\n\u001b[1;32m----> 2\u001b[1;33m \u001b[0mscatter_matrix\u001b[0m\u001b[1;33m(\u001b[0m\u001b[0mscores\u001b[0m\u001b[1;33m.\u001b[0m\u001b[0mloc\u001b[0m\u001b[1;33m[\u001b[0m\u001b[1;33m:\u001b[0m\u001b[1;33m,\u001b[0m\u001b[1;33m[\u001b[0m\u001b[1;34m'rating'\u001b[0m\u001b[1;33m,\u001b[0m\u001b[1;34m'staff_score'\u001b[0m\u001b[1;33m,\u001b[0m\u001b[1;34m'doc_score'\u001b[0m\u001b[1;33m]\u001b[0m\u001b[1;33m]\u001b[0m\u001b[1;33m,\u001b[0m                \u001b[0malpha\u001b[0m\u001b[1;33m=\u001b[0m\u001b[1;36m0.2\u001b[0m\u001b[1;33m,\u001b[0m \u001b[0mfigsize\u001b[0m\u001b[1;33m=\u001b[0m\u001b[1;33m(\u001b[0m\u001b[1;36m12\u001b[0m\u001b[1;33m,\u001b[0m \u001b[1;36m12\u001b[0m\u001b[1;33m)\u001b[0m\u001b[1;33m,\u001b[0m \u001b[0mdiagonal\u001b[0m\u001b[1;33m=\u001b[0m\u001b[1;34m'hist'\u001b[0m\u001b[1;33m)\u001b[0m\u001b[1;33m\u001b[0m\u001b[0m\n\u001b[0m",
      "\u001b[1;31mNameError\u001b[0m: name 'scores' is not defined"
     ]
    }
   ],
   "source": [
    "from pandas.plotting import scatter_matrix\n",
    "scatter_matrix(scores.loc[:,['rating','staff_score','doc_score']], \\\n",
    "               alpha=0.2, figsize=(12, 12), diagonal='hist')"
   ]
  },
  {
   "cell_type": "code",
   "execution_count": 37,
   "metadata": {},
   "outputs": [
    {
     "data": {
      "image/png": "[encoded data removed]",
      "text/plain": [
       "<Figure size 432x432 with 1 Axes>"
      ]
     },
     "metadata": {},
     "output_type": "display_data"
    }
   ],
   "source": [
    "plt.figure(figsize = (6,6))\n",
    "plt.scatter(x=\"doc_score\", y=\"rating\", data=subdata5, alpha = 0.7, s = 6);\n",
    "plt.xlabel('Score for doctor performance only')\n",
    "plt.ylabel('Overall star rating \\n (likelihood to recommend)')\n",
    "plt.plot(np.arange(0,5.5,0.5), np.arange(0,5.5,0.5), color = 'gray', linestyle=':')\n",
    "plt.show()"
   ]
  },
  {
   "cell_type": "code",
   "execution_count": 38,
   "metadata": {},
   "outputs": [
    {
     "data": {
      "image/png": "[encoded data removed]",
      "text/plain": [
       "<Figure size 432x432 with 1 Axes>"
      ]
     },
     "metadata": {},
     "output_type": "display_data"
    }
   ],
   "source": [
    "plt.figure(figsize = (6,6))\n",
    "plt.scatter(x=\"staff_score\", y=\"rating\", data=subdata5, alpha = 0.7, s = 6);\n",
    "plt.xlabel('Score for staff and office only')\n",
    "plt.ylabel('Overall star rating \\n (likelihood to recommend)')\n",
    "plt.plot(np.arange(0,5.5,0.5), np.arange(0,5.5,0.5), color = 'gray', linestyle=':')\n",
    "plt.show()"
   ]
  },
  {
   "cell_type": "code",
   "execution_count": 39,
   "metadata": {},
   "outputs": [
    {
     "data": {
      "image/png": "[encoded data removed]",
      "text/plain": [
       "<Figure size 432x432 with 1 Axes>"
      ]
     },
     "metadata": {},
     "output_type": "display_data"
    }
   ],
   "source": [
    "plt.figure(figsize = (6,6))\n",
    "plt.scatter(x=\"doc_score\", y=\"staff_score\", data=subdata5, s = 7, alpha = 0.5);\n",
    "plt.plot(np.arange(0,5.5,0.5), np.arange(0,5.5,0.5), color = 'gray', linestyle=':')\n",
    "plt.xlabel('Score for doctor performance only')\n",
    "plt.ylabel('Score for staff and office only')\n",
    "plt.rc('xtick', labelsize=BIGGER_SIZE)    # fontsize of the tick labels\n",
    "plt.rc('ytick', labelsize=BIGGER_SIZE)\n",
    "plt.show()"
   ]
  },
  {
   "cell_type": "code",
   "execution_count": 40,
   "metadata": {},
   "outputs": [
    {
     "data": {
      "image/png": "[encoded data removed]",
      "text/plain": [
       "<Figure size 432x432 with 1 Axes>"
      ]
     },
     "metadata": {},
     "output_type": "display_data"
    }
   ],
   "source": [
    "# use\n",
    "def rand_jitter(arr):\n",
    "    stdev = .01*(max(arr)-min(arr))\n",
    "    return arr + np.random.randn(len(arr)) * stdev\n",
    "\n",
    "def jitter(x, y, s=20, c='b', marker='o', cmap=None, norm=None, vmin=None, vmax=None, alpha=None, linewidths=None, verts=None, hold=None, **kwargs):\n",
    "    return plt.scatter(rand_jitter(x), rand_jitter(y), s=s, c=c, marker=marker, cmap=cmap, norm=norm, vmin=vmin, vmax=vmax, alpha=alpha, linewidths=linewidths, verts=verts, hold=hold, **kwargs)\n",
    "\n",
    "plt.rc('xtick', labelsize=BIGGER_SIZE)    # fontsize of the tick labels\n",
    "plt.rc('ytick', labelsize=BIGGER_SIZE)\n",
    "\n",
    "sns.set_style('whitegrid')\n",
    "plt.figure(figsize = (6,6))\n",
    "jitter( subdata5['doc_score'], subdata5['staff_score'], s = 9, alpha = 0.3);\n",
    "plt.plot(np.arange(0,5.5,0.5), np.arange(0,5.5,0.5), color = 'green', linestyle=':')\n",
    "plt.plot(np.arange(0,5.5,0.5), np.arange(0,5.5,0.5) + 0.5, color = 'gray', linestyle=':')\n",
    "plt.plot(np.arange(0,5.5,0.5), np.arange(0,5.5,0.5) - 0.5, color = 'gray', linestyle=':')\n",
    "plt.xlabel('Score for doctor performance only')\n",
    "plt.ylabel('Score for staff and office only')\n",
    "plt.xlim(0,5.2)\n",
    "plt.show()"
   ]
  },
  {
   "cell_type": "code",
   "execution_count": 41,
   "metadata": {},
   "outputs": [
    {
     "data": {
      "text/plain": [
       "<matplotlib.collections.PathCollection at 0x1f77dd2b390>"
      ]
     },
     "execution_count": 41,
     "metadata": {},
     "output_type": "execute_result"
    },
    {
     "data": {
      "image/png": "[encoded data removed]",
      "text/plain": [
       "<Figure size 432x432 with 1 Axes>"
      ]
     },
     "metadata": {},
     "output_type": "display_data"
    }
   ],
   "source": [
    "plt.figure(figsize = (6,6))\n",
    "xval = subdata5['doc_score'] - subdata5['staff_score']\n",
    "yval = subdata5['rating'] - subdata5.loc[:,['doc_score','staff_score']].min(axis = 1)\n",
    "plt.scatter(xval, yval, s= 7, alpha = 0.3, color = 'b')"
   ]
  },
  {
   "cell_type": "code",
   "execution_count": 42,
   "metadata": {},
   "outputs": [
    {
     "data": {
      "text/plain": [
       "(-1.5, 1.5)"
      ]
     },
     "execution_count": 42,
     "metadata": {},
     "output_type": "execute_result"
    },
    {
     "data": {
      "image/png": "[encoded data removed]",
      "text/plain": [
       "<Figure size 432x432 with 1 Axes>"
      ]
     },
     "metadata": {},
     "output_type": "display_data"
    }
   ],
   "source": [
    "# use\n",
    "sns.set_style('whitegrid')\n",
    "plt.figure(figsize = (6,6))\n",
    "xval = subdata5['doc_score'] - subdata5['staff_score']\n",
    "yval = subdata5['rating'] - subdata5['doc_score']\n",
    "jitter(xval, yval, s = 8, alpha = 0.3, c = 'r')\n",
    "plt.plot(np.arange(-1.5,2,0.5), np.zeros(len(np.arange(-1.5,2,0.5))), color = 'b', linestyle=':')\n",
    "plt.plot(np.zeros(len(np.arange(-1.5,2,0.5))), np.arange(-1.5,2,0.5), color = 'b', linestyle=':')\n",
    "plt.xlabel('Doctor score - Staff score')\n",
    "plt.ylabel('Overall rating - Doctor score')\n",
    "plt.ylim(-1.5,1.5)\n",
    "# plt.savefig('score difference scatter', format = 'png')"
   ]
  },
  {
   "cell_type": "code",
   "execution_count": 43,
   "metadata": {},
   "outputs": [
    {
     "name": "stdout",
     "output_type": "stream",
     "text": [
      "count    535.000000\n",
      "mean       0.073520\n",
      "std        0.324228\n",
      "min       -1.375000\n",
      "25%        0.000000\n",
      "50%        0.000000\n",
      "75%        0.208333\n",
      "max        1.208333\n",
      "dtype: float64\n"
     ]
    },
    {
     "data": {
      "text/plain": [
       "Ttest_1sampResult(statistic=-708.1448825831469, pvalue=0.0)"
      ]
     },
     "execution_count": 43,
     "metadata": {},
     "output_type": "execute_result"
    },
    {
     "data": {
      "image/png": "[encoded data removed]",
      "text/plain": [
       "<Figure size 432x288 with 1 Axes>"
      ]
     },
     "metadata": {},
     "output_type": "display_data"
    }
   ],
   "source": [
    "print(xval.describe())\n",
    "xval.plot(kind='hist')\n",
    "plt.xlabel('doc score - staff score')\n",
    "stats.ttest_1samp(xval, 10)\n",
    "# doctor score is more likely to be higher than staff score. "
   ]
  },
  {
   "cell_type": "code",
   "execution_count": 44,
   "metadata": {
    "scrolled": true
   },
   "outputs": [
    {
     "name": "stdout",
     "output_type": "stream",
     "text": [
      "count    535.000000\n",
      "mean      -0.099065\n",
      "std        0.229494\n",
      "min       -1.000000\n",
      "25%       -0.125000\n",
      "50%        0.000000\n",
      "75%        0.000000\n",
      "max        0.500000\n",
      "dtype: float64\n"
     ]
    },
    {
     "data": {
      "text/plain": [
       "Ttest_1sampResult(statistic=-1017.8553117074647, pvalue=0.0)"
      ]
     },
     "execution_count": 44,
     "metadata": {},
     "output_type": "execute_result"
    },
    {
     "data": {
      "image/png": "[encoded data removed]",
      "text/plain": [
       "<Figure size 432x288 with 1 Axes>"
      ]
     },
     "metadata": {},
     "output_type": "display_data"
    }
   ],
   "source": [
    "print(yval.describe())\n",
    "yval.plot(kind='hist')\n",
    "plt.xlabel('rating - doc score')\n",
    "stats.ttest_1samp(yval, 10)"
   ]
  },
  {
   "cell_type": "code",
   "execution_count": 52,
   "metadata": {},
   "outputs": [
    {
     "data": {
      "text/html": [
       "<div>\n",
       "<style scoped>\n",
       "    .dataframe tbody tr th:only-of-type {\n",
       "        vertical-align: middle;\n",
       "    }\n",
       "\n",
       "    .dataframe tbody tr th {\n",
       "        vertical-align: top;\n",
       "    }\n",
       "\n",
       "    .dataframe thead th {\n",
       "        text-align: right;\n",
       "    }\n",
       "</style>\n",
       "<table border=\"1\" class=\"dataframe\">\n",
       "  <thead>\n",
       "    <tr style=\"text-align: right;\">\n",
       "      <th></th>\n",
       "      <th>name</th>\n",
       "      <th>hcp_id</th>\n",
       "      <th>age</th>\n",
       "      <th>gender</th>\n",
       "      <th>num_reviews</th>\n",
       "      <th>rating</th>\n",
       "      <th>doc_score</th>\n",
       "      <th>staff_score</th>\n",
       "      <th>practice_name</th>\n",
       "      <th>hosp_fellow</th>\n",
       "      <th>hosp_md</th>\n",
       "      <th>hosp_res</th>\n",
       "      <th>practice_addr</th>\n",
       "      <th>city</th>\n",
       "      <th>state</th>\n",
       "      <th>zipcode</th>\n",
       "      <th>has_review</th>\n",
       "      <th>age_grp</th>\n",
       "    </tr>\n",
       "  </thead>\n",
       "  <tbody>\n",
       "    <tr>\n",
       "      <th>0</th>\n",
       "      <td>Dr. Blair Lewis, MD</td>\n",
       "      <td>dr-blair-lewis-2gfpg</td>\n",
       "      <td>62.0</td>\n",
       "      <td>Male</td>\n",
       "      <td>26</td>\n",
       "      <td>5.0</td>\n",
       "      <td>4.875</td>\n",
       "      <td>4.666667</td>\n",
       "      <td>Blair S Lewis MD PC</td>\n",
       "      <td>Mt Sinai Med Center</td>\n",
       "      <td>Albert Einstein College Of Medicine Of Yeshiva...</td>\n",
       "      <td>Montefiore Med Center</td>\n",
       "      <td>1067 5th Ave, New York, NY, 10128</td>\n",
       "      <td>New York</td>\n",
       "      <td>NY</td>\n",
       "      <td>10128</td>\n",
       "      <td>True</td>\n",
       "      <td>[60, 70)</td>\n",
       "    </tr>\n",
       "    <tr>\n",
       "      <th>14</th>\n",
       "      <td>Dr. Zamir Brelvi, MD</td>\n",
       "      <td>dr-zamir-brelvi-xy8pj</td>\n",
       "      <td>59.0</td>\n",
       "      <td>Male</td>\n",
       "      <td>15</td>\n",
       "      <td>4.0</td>\n",
       "      <td>4.125</td>\n",
       "      <td>3.833333</td>\n",
       "      <td>NaN</td>\n",
       "      <td>NaN</td>\n",
       "      <td>Umdnj--New Jersey Medical School</td>\n",
       "      <td>Umdnj-University Hospital</td>\n",
       "      <td>90 Bergen St, Newark, NJ, 07103</td>\n",
       "      <td>Newark</td>\n",
       "      <td>NJ</td>\n",
       "      <td>07103</td>\n",
       "      <td>True</td>\n",
       "      <td>[50, 60)</td>\n",
       "    </tr>\n",
       "  </tbody>\n",
       "</table>\n",
       "</div>"
      ],
      "text/plain": [
       "                    name                 hcp_id   age gender  num_reviews  \\\n",
       "0    Dr. Blair Lewis, MD   dr-blair-lewis-2gfpg  62.0   Male           26   \n",
       "14  Dr. Zamir Brelvi, MD  dr-zamir-brelvi-xy8pj  59.0   Male           15   \n",
       "\n",
       "    rating  doc_score  staff_score        practice_name          hosp_fellow  \\\n",
       "0      5.0      4.875     4.666667  Blair S Lewis MD PC  Mt Sinai Med Center   \n",
       "14     4.0      4.125     3.833333                  NaN                  NaN   \n",
       "\n",
       "                                              hosp_md  \\\n",
       "0   Albert Einstein College Of Medicine Of Yeshiva...   \n",
       "14                   Umdnj--New Jersey Medical School   \n",
       "\n",
       "                     hosp_res                      practice_addr      city  \\\n",
       "0       Montefiore Med Center  1067 5th Ave, New York, NY, 10128  New York   \n",
       "14  Umdnj-University Hospital    90 Bergen St, Newark, NJ, 07103    Newark   \n",
       "\n",
       "   state zipcode  has_review   age_grp  \n",
       "0     NY   10128        True  [60, 70)  \n",
       "14    NJ   07103        True  [50, 60)  "
      ]
     },
     "execution_count": 52,
     "metadata": {},
     "output_type": "execute_result"
    }
   ],
   "source": [
    "subdata5.head(2)"
   ]
  },
  {
   "cell_type": "code",
   "execution_count": 48,
   "metadata": {},
   "outputs": [
    {
     "name": "stdout",
     "output_type": "stream",
     "text": [
      "                                                    topdoc_practice_n  \\\n",
      "Columbia University Medical Center Division of ...                  3   \n",
      "Cross County Cardiology                                             3   \n",
      "Mount Sinai Heart                                                   2   \n",
      "HeartHealth, a Program of the Dalio Institute o...                  2   \n",
      "Lenox Hill Heart and Vascular Institute, New Yo...                  2   \n",
      "\n",
      "                                                    topdoc_practice_p  \n",
      "Columbia University Medical Center Division of ...           0.048387  \n",
      "Cross County Cardiology                                      0.048387  \n",
      "Mount Sinai Heart                                            0.032258  \n",
      "HeartHealth, a Program of the Dalio Institute o...           0.032258  \n",
      "Lenox Hill Heart and Vascular Institute, New Yo...           0.032258  \n"
     ]
    },
    {
     "data": {
      "text/html": [
       "<div>\n",
       "<style scoped>\n",
       "    .dataframe tbody tr th:only-of-type {\n",
       "        vertical-align: middle;\n",
       "    }\n",
       "\n",
       "    .dataframe tbody tr th {\n",
       "        vertical-align: top;\n",
       "    }\n",
       "\n",
       "    .dataframe thead th {\n",
       "        text-align: right;\n",
       "    }\n",
       "</style>\n",
       "<table border=\"1\" class=\"dataframe\">\n",
       "  <thead>\n",
       "    <tr style=\"text-align: right;\">\n",
       "      <th></th>\n",
       "      <th>top_practice_n</th>\n",
       "      <th>top_practice_p</th>\n",
       "    </tr>\n",
       "  </thead>\n",
       "  <tbody>\n",
       "    <tr>\n",
       "      <th>Columbia University Medical Center Division of Cardiology</th>\n",
       "      <td>13</td>\n",
       "      <td>0.026860</td>\n",
       "    </tr>\n",
       "    <tr>\n",
       "      <th>Mount Sinai Heart</th>\n",
       "      <td>8</td>\n",
       "      <td>0.016529</td>\n",
       "    </tr>\n",
       "    <tr>\n",
       "      <th>Cardiology at Weill Cornell Medical Center</th>\n",
       "      <td>8</td>\n",
       "      <td>0.016529</td>\n",
       "    </tr>\n",
       "    <tr>\n",
       "      <th>Columbia Doctors Midtown</th>\n",
       "      <td>8</td>\n",
       "      <td>0.016529</td>\n",
       "    </tr>\n",
       "    <tr>\n",
       "      <th>University Cardiology Assocs</th>\n",
       "      <td>7</td>\n",
       "      <td>0.014463</td>\n",
       "    </tr>\n",
       "    <tr>\n",
       "      <th>Weill Cornell Cardiology</th>\n",
       "      <td>7</td>\n",
       "      <td>0.014463</td>\n",
       "    </tr>\n",
       "    <tr>\n",
       "      <th>New York Cardiology Associates</th>\n",
       "      <td>7</td>\n",
       "      <td>0.014463</td>\n",
       "    </tr>\n",
       "    <tr>\n",
       "      <th>Lenox Hill Heart and Vascular Institute, New York, NY</th>\n",
       "      <td>6</td>\n",
       "      <td>0.012397</td>\n",
       "    </tr>\n",
       "    <tr>\n",
       "      <th>Staten Island Heart PC</th>\n",
       "      <td>5</td>\n",
       "      <td>0.010331</td>\n",
       "    </tr>\n",
       "    <tr>\n",
       "      <th>Total Cardiology Care</th>\n",
       "      <td>5</td>\n",
       "      <td>0.010331</td>\n",
       "    </tr>\n",
       "  </tbody>\n",
       "</table>\n",
       "</div>"
      ],
      "text/plain": [
       "                                                    top_practice_n  \\\n",
       "Columbia University Medical Center Division of ...              13   \n",
       "Mount Sinai Heart                                                8   \n",
       "Cardiology at Weill Cornell Medical Center                       8   \n",
       "Columbia Doctors Midtown                                         8   \n",
       "University Cardiology Assocs                                     7   \n",
       "Weill Cornell Cardiology                                         7   \n",
       "New York Cardiology Associates                                   7   \n",
       "Lenox Hill Heart and Vascular Institute, New Yo...               6   \n",
       "Staten Island Heart PC                                           5   \n",
       "Total Cardiology Care                                            5   \n",
       "\n",
       "                                                    top_practice_p  \n",
       "Columbia University Medical Center Division of ...        0.026860  \n",
       "Mount Sinai Heart                                         0.016529  \n",
       "Cardiology at Weill Cornell Medical Center                0.016529  \n",
       "Columbia Doctors Midtown                                  0.016529  \n",
       "University Cardiology Assocs                              0.014463  \n",
       "Weill Cornell Cardiology                                  0.014463  \n",
       "New York Cardiology Associates                            0.014463  \n",
       "Lenox Hill Heart and Vascular Institute, New Yo...        0.012397  \n",
       "Staten Island Heart PC                                    0.010331  \n",
       "Total Cardiology Care                                     0.010331  "
      ]
     },
     "execution_count": 48,
     "metadata": {},
     "output_type": "execute_result"
    }
   ],
   "source": [
    "# Institutions for the exceptional doctors \n",
    "topdata = subdata5.loc[ (subdata5['rating'] == 5) & (subdata5['num_reviews'] >= 10),:]\n",
    "#topdata.to_csv('top 5 star docs with at least 10 reviews.csv')\n",
    "# 2 practices with > 1 doctor in the exceptional list\n",
    "topdoc_practice_n = topdata['practice_name'].value_counts().to_frame('topdoc_practice_n')\n",
    "topdoc_practice_p = (topdata['practice_name'].value_counts()/np.sum(topdata['practice_name'].value_counts())).to_frame('topdoc_practice_p')\n",
    "topdoc_practice = pd.concat([topdoc_practice_n, topdoc_practice_p], axis = 1) \n",
    "print(topdoc_practice.iloc[0:5,:])\n",
    "\n",
    "top_practice_n = subdata5['practice_name'].value_counts().to_frame('top_practice_n')\n",
    "top_practice_p = (subdata5['practice_name'].value_counts()/np.sum(subdata5['practice_name'].value_counts())).to_frame('top_practice_p')\n",
    "top_practice = pd.concat([top_practice_n, top_practice_p], axis = 1) \n",
    "top_practice.iloc[0:10,:]"
   ]
  },
  {
   "cell_type": "code",
   "execution_count": null,
   "metadata": {},
   "outputs": [],
   "source": []
  }
 ],
 "metadata": {
  "kernelspec": {
   "display_name": "Python 3",
   "language": "python",
   "name": "python3"
  },
  "language_info": {
   "codemirror_mode": {
    "name": "ipython",
    "version": 3
   },
   "file_extension": ".py",
   "mimetype": "text/x-python",
   "name": "python",
   "nbconvert_exporter": "python",
   "pygments_lexer": "ipython3",
   "version": "3.7.0"
  }
 },
 "nbformat": 4,
 "nbformat_minor": 2
}
